{
 "cells": [
  {
   "cell_type": "code",
   "execution_count": 1,
   "metadata": {},
   "outputs": [],
   "source": [
    "When migrating data from a source storage system to a target storage system, the number one focus is avoiding data corruption at all cost. In order to meet these high standards, various rounds of tests are run checking for corrupted blocks as well as successfully migrated lengthy regions.\n",
    "We are going to represent the source storage system and target storage system as sequential arrays sourceArray and destinationArray respectively, where sourceArray[i] represents binary data of the ith source block as an integer, and destinationArray[i] represents binary data of the ith destination block, where the data should be migrated, also as an integer. Given the content of the source and the migrated content of the target, find the length and the starting block of the longest uncorrupted data segment (segment = subsequent blocks).\n",
    "\n",
    "If there is no uncorrupted segment, return an array containing 0 and 0 respectively."
   ]
  },
  {
   "cell_type": "code",
   "execution_count": 8,
   "metadata": {},
   "outputs": [],
   "source": [
    "import numpy as np\n",
    "sourceArray = np.array([33531593, 96933415, 28506400, 39457872, 29684716, 86010806])\n",
    "destinationArray = np.array([33531593, 96913415, 28506400, 39457872, 29684716, 86010806])\n",
    "# Expected Output:\n",
    "# [4, 2]"
   ]
  },
  {
   "cell_type": "code",
   "execution_count": 23,
   "metadata": {},
   "outputs": [],
   "source": [
    "sourceArray = [20800440, 98256958, 64277103, 40475664, 98589505, 31621824, 84322264, 58283379, 15631261, 35464021]\n",
    "destinationArray = [20800440, 95256958, 64276103, 40475664, 98589505, 31621824, 84322264, 58283379, 15631261, 35464021]\n",
    "# Expected Output:\n",
    "# [7, 3]\n",
    "# sourceArray.shape"
   ]
  },
  {
   "cell_type": "code",
   "execution_count": 27,
   "metadata": {},
   "outputs": [],
   "source": [
    "\n",
    "sourceArray: [92988800, 80253955, 17396563, 91682092, 77708269, 97587946, 23889892, 20661856, 21013095, 92028000, 17562863, 86804822, 17819093, 97941923, 64955308]\n",
    "destinationArray: [92988800, 80253955, 17396563, 91682092, 77708229, 97587946, 23889892, 20661866, 21013095, 92928000, 17962863, 86804822, 14819093, 97241923, 62955308]\n",
    "# Output:\n",
    "# [0, 0]\n",
    "# Expected Output:\n",
    "# [4, 0]"
   ]
  },
  {
   "cell_type": "code",
   "execution_count": null,
   "metadata": {},
   "outputs": [],
   "source": []
  },
  {
   "cell_type": "code",
   "execution_count": 29,
   "metadata": {},
   "outputs": [
    {
     "name": "stdout",
     "output_type": "stream",
     "text": [
      "[4, 1]\n"
     ]
    }
   ],
   "source": [
    "# a = sourceArray-destinationArray\n",
    "b = [k for k,v in enumerate(sourceArray) if (v-destinationArray[k])!=0]\n",
    "finish = len(sourceArray)-b[-1]-1\n",
    "print([finish,b[-1]])"
   ]
  },
  {
   "cell_type": "code",
   "execution_count": 34,
   "metadata": {},
   "outputs": [
    {
     "name": "stdout",
     "output_type": "stream",
     "text": [
      "[4, 7, 9, 10, 12, 13, 14]\n"
     ]
    },
    {
     "data": {
      "text/plain": [
       "[0, 15]"
      ]
     },
     "execution_count": 34,
     "metadata": {},
     "output_type": "execute_result"
    }
   ],
   "source": [
    "def longestUncorruptedSegment(sourceArray, destinationArray):\n",
    "    b = [k for k,v in enumerate(sourceArray) if (v-destinationArray[k])!=0]\n",
    "    finish = len(sourceArray)-b[-1]-1\n",
    "    print(b)\n",
    "    if finish ==0 and len(b)==0 or len(b)==len(sourceArray):\n",
    "        return [0,0]\n",
    "    return [finish,b[-1]+1]\n",
    "\n",
    "sourceArray= [92988800, 80253955, 17396563, 91682092, 77708269, 97587946, 23889892, 20661856, 21013095, 92028000, 17562863, 86804822, 17819093, 97941923, 64955308]\n",
    "destinationArray= [92988800, 80253955, 17396563, 91682092, 77708229, 97587946, 23889892, 20661866, 21013095, 92928000, 17962863, 86804822, 14819093, 97241923, 62955308]\n",
    "longestUncorruptedSegment(sourceArray,destinationArray)"
   ]
  },
  {
   "cell_type": "code",
   "execution_count": 37,
   "metadata": {},
   "outputs": [
    {
     "name": "stdout",
     "output_type": "stream",
     "text": [
      "[2, 1]\n",
      "[3, 2]\n",
      "[4, 2]\n",
      "[5, 2]\n",
      "[6, 4]\n",
      "[6, 5]\n"
     ]
    }
   ],
   "source": [
    "n= 6\n",
    "g= [[1,2], \n",
    " [2,3], \n",
    " [2,4], \n",
    " [2,5], \n",
    " [4,6], \n",
    " [5,6]]\n",
    "v= [4, 5]\n",
    "    \n",
    "    \n",
    "# n= 6\n",
    "# g= [[1,2], \n",
    "#  [2,3], \n",
    "#  [2,4], \n",
    "#  [2,5], \n",
    "#  [4,6], \n",
    "#  [5,6]]\n",
    "# v= [2, 6]\n",
    "def whatEverTheySaid(n,g,v):\n",
    "    a = []\n",
    "    for i in g:\n",
    "        with i in a:\n",
    "            return False\n",
    "        i.reverse()\n",
    "        print(i)\n",
    "whatEverTheySaid(n,g,v)\n",
    "    \n",
    "    "
   ]
  },
  {
   "cell_type": "code",
   "execution_count": 12,
   "metadata": {},
   "outputs": [],
   "source": [
    "import vlc\n",
    "import time\n",
    "# url = \"https://video.fsgn2-1.fna.fbcdn.net/hvideo-frc2-ash/_nc_cat-1/v/rW1estXnBn4K2a2mWM2DR/live-dash/dash-abr5/716705812145938.mpd?_nc_rl=AfASUic6TRgVoehJ&oh=5a1bfd34afa8d920b6c7b5a1f83dcb89&oe=5DC37D41\"\n",
    "url =\"https://video.fsgn2-3.fna.fbcdn.net/hvideo-frc2-ftw/_nc_cat-110/v/r00nK1ruZjX6WLU6EtSWs/live-dash/dash-abr5/154460822588037.mpd?_nc_rl=AfCSBmv1zH_1wDQZ&ms=m_CT&oh=120728e0eed0a0e75cc4b42b42451575&oe=5DC37784\"\n",
    "player=vlc.MediaPlayer(url)\n",
    "# print(player.get_fps)\n",
    "# print(player.video_get_size)\n",
    "player.play()\n",
    "while 1:\n",
    "    time.sleep(1)\n",
    "    player.video_take_snapshot(10, 'snap.png', 0, 0)\n",
    "    player.release()\n",
    "    break"
   ]
  },
  {
   "cell_type": "code",
   "execution_count": 14,
   "metadata": {},
   "outputs": [
    {
     "name": "stdout",
     "output_type": "stream",
     "text": [
      "False\n"
     ]
    }
   ],
   "source": [
    "import cv2\n",
    "# import pafy\n",
    "# url = \"https://video.fsgn2-1.fna.fbcdn.net/hvideo-ftw1-atn/_nc_cat-1/v/rAXJSL3GlR7k1-cqiXi5k/live-dash/dash-abr5/1180348462160547.mpd?_nc_rl=AfAg0Kv_jLA-zYGS&oh=42a711abb13fad5cafb03b3a4d953794&oe=5DC3D49C\"\n",
    "# video = pafy.new(url)\n",
    "# best = video.getbest(preftype=\"mp4\")\n",
    "# url = \"https://www.facebook.com/TheTharkiAssassins/videos/787490135034844/\"\n",
    "# url = \"https://360live.vn/live/1830607?fbclid=IwAR1TW4CeCnr6Ik7GsE6yGQFyA1ywvlyP_9B-SHT1sSD67vG3skB6kkM-n7w\"\n",
    "cap = cv2.VideoCapture(url)\n",
    "print(cap.isOpened())\n",
    "while(cap.isOpened()):\n",
    "    ret, frame = cap.read()\n",
    "    cv2.imshow('frame', frame)\n",
    "    if cv2.waitKey(20) & 0xFF == ord('q'):\n",
    "        break\n",
    "cap.release()\n",
    "cv2.destroyAllWindows()"
   ]
  }
 ],
 "metadata": {
  "kernelspec": {
   "display_name": "Python 3",
   "language": "python",
   "name": "python3"
  },
  "language_info": {
   "codemirror_mode": {
    "name": "ipython",
    "version": 3
   },
   "file_extension": ".py",
   "mimetype": "text/x-python",
   "name": "python",
   "nbconvert_exporter": "python",
   "pygments_lexer": "ipython3",
   "version": "3.7.3"
  }
 },
 "nbformat": 4,
 "nbformat_minor": 2
}
