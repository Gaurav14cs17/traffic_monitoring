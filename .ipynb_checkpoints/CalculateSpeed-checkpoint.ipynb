{
 "cells": [
  {
   "cell_type": "markdown",
   "metadata": {},
   "source": [
    "# Speed measure def"
   ]
  },
  {
   "cell_type": "code",
   "execution_count": 1,
   "metadata": {},
   "outputs": [
    {
     "name": "stdout",
     "output_type": "stream",
     "text": [
      "set([1, 2, 3])\n"
     ]
    }
   ],
   "source": [
    "SPLIT_TRAIN_SESSIONS = {}\n",
    "SPLIT_TRAIN_SESSIONS[\"A\"] = {\"session0\"}\n",
    "SPLIT_TRAIN_SESSIONS[\"B\"] = SPLIT_TRAIN_SESSIONS[\"A\"] | {\"session1\", \"session2\"}\n",
    "a = [1,2,3]\n",
    "print(set(a))"
   ]
  },
  {
   "cell_type": "code",
   "execution_count": 2,
   "metadata": {},
   "outputs": [],
   "source": [
    "# DATASET_BASE_PATH = TRANS_PATH(\"../dataset/\")\n",
    "# RESULTS_DIR = TRANS_PATH(\"../results/\")\n",
    "\n",
    "DATASET_SESSIONS = {\n",
    "    \"session0\": {\n",
    "        \"recordings\": {        \n",
    "            \"left\": {\"fps\": 50.0},\n",
    "            \"center\": {\"fps\": 25.0},\n",
    "            \"right\": {\"fps\": 50.0}\n",
    "        }\n",
    "        \n",
    "    },\n",
    "    \"session1\": {\n",
    "        \"recordings\": {        \n",
    "            \"left\": {\"fps\": 50.0},\n",
    "            \"center\": {\"fps\": 50.0},\n",
    "            \"right\": {\"fps\": 50.0}\n",
    "        }\n",
    "    },\n",
    "    \"session2\": {\n",
    "        \"recordings\": {        \n",
    "            \"left\": {\"fps\": 50.0},\n",
    "            \"center\": {\"fps\": 50.0},\n",
    "            \"right\": {\"fps\": 50.0}\n",
    "        }\n",
    "    },\n",
    "    \"session3\": {\n",
    "        \"recordings\": {        \n",
    "            \"left\": {\"fps\": 50.0},\n",
    "            \"center\": {\"fps\": 50.0},\n",
    "            \"right\": {\"fps\": 50.0}\n",
    "        }\n",
    "    },\n",
    "    \"session4\": {\n",
    "        \"recordings\": {        \n",
    "            \"left\": {\"fps\": 50.0},\n",
    "            \"center\": {\"fps\": 50.0},\n",
    "            \"right\": {\"fps\": 50.0}\n",
    "        }\n",
    "    },\n",
    "    \"session5\": {\n",
    "        \"recordings\": {        \n",
    "            \"left\": {\"fps\": 50.0},\n",
    "            \"center\": {\"fps\": 50.0},\n",
    "            \"right\": {\"fps\": 50.0}\n",
    "        }\n",
    "    },\n",
    "    \"session6\": {\n",
    "        \"recordings\": {        \n",
    "            \"left\": {\"fps\": 50.0},\n",
    "            \"center\": {\"fps\": 50.0},\n",
    "            \"right\": {\"fps\": 50.0}\n",
    "        },\n",
    "        \"invalidLanes\": set([2])\n",
    "        \n",
    "    }\n",
    "    \n",
    "}\n",
    "\n",
    "\n",
    "\n",
    "\n",
    "\n",
    "ALL_SESSIONS = set(DATASET_SESSIONS.keys())\n",
    "\n",
    "ALL_VIDEOS = []\n",
    "for _sId in sorted(DATASET_SESSIONS):\n",
    "    for _rId in (\"left\", \"center\", \"right\"):\n",
    "        ALL_VIDEOS.append((_sId, _rId))\n",
    "\n",
    "SPLIT_TRAIN_SESSIONS = {}\n",
    "SPLIT_TRAIN_SESSIONS[\"A\"] = {\"session0\"}\n",
    "SPLIT_TRAIN_SESSIONS[\"B\"] = SPLIT_TRAIN_SESSIONS[\"A\"] | {\"session1\", \"session2\"}\n",
    "SPLIT_TRAIN_SESSIONS[\"C\"] = SPLIT_TRAIN_SESSIONS[\"B\"] | {\"session3\"}\n",
    "\n",
    "SPLIT_TEST_SESSIONS = dict(map(lambda i: (i[0], ALL_SESSIONS-i[1]), SPLIT_TRAIN_SESSIONS.iteritems()))\n",
    "\n",
    "SPLIT_TRAIN_VIDEOS = dict(map(lambda i: (i[0], filter(lambda j: j[0] in i[1], ALL_VIDEOS)), SPLIT_TRAIN_SESSIONS.iteritems()))\n",
    "SPLIT_TEST_VIDEOS = dict(map(lambda i: (i[0], filter(lambda j: j[0] in i[1], ALL_VIDEOS)), SPLIT_TEST_SESSIONS.iteritems()))\n",
    "\n",
    "# print SPLIT_TRAIN_SESSIONS\n",
    "# print \"\"\n",
    "# print SPLIT_TEST_SESSIONS\n",
    "# print \"\"\n",
    "# print SPLIT_TRAIN_VIDEOS\n",
    "# print \"\"\n",
    "# print SPLIT_TEST_VIDEOS"
   ]
  },
  {
   "cell_type": "code",
   "execution_count": 26,
   "metadata": {},
   "outputs": [
    {
     "name": "stdout",
     "output_type": "stream",
     "text": [
      "None\n"
     ]
    }
   ],
   "source": [
    "import numpy as np\n",
    "def isPointBetweenLines(p, l1, l2):\n",
    "    return np.dot(p,l1)*np.dot(p,l2)*np.dot(l1[0:2],l2[0:2]) <= 0\n",
    "def getLaneForPoint(p, lines):\n",
    "    for i in xrange(len(lines)-1):\n",
    "        if isPointBetweenLines(p, lines[i], lines[i+1]):\n",
    "            return i\n",
    "    return None\n",
    "p = np.array([1,2,1])\n",
    "l1 = np.array([1,2,3])\n",
    "l2 = np.array([2,2,3])\n",
    "l3 = np.array([3,2,3])\n",
    "l = [l1,l2,l3]\n",
    "print(getLaneForPoint(p,l))"
   ]
  },
  {
   "cell_type": "code",
   "execution_count": 4,
   "metadata": {},
   "outputs": [],
   "source": [
    "from __future__ import division\n",
    "from __future__ import print_function\n",
    "import numpy as np\n",
    "import os\n",
    "import cv2\n",
    "import matplotlib.pyplot as plt\n",
    "import cPickle\n",
    "def pointToLineDistance(p, l):\n",
    "    return abs(np.dot(l,p/p[2]))/np.linalg.norm(l[0:2])\n",
    "\n",
    "def pointToLineProjection(l, p):\n",
    "    p = p/p[-1]\n",
    "    c = p[0]*l[1] - p[1]*l[0]\n",
    "    perpendicularLine = np.array([-l[1], l[0], c])\n",
    "    intersection = np.cross(l, perpendicularLine)\n",
    "    return intersection/intersection[-1]\n"
   ]
  },
  {
   "cell_type": "code",
   "execution_count": 5,
   "metadata": {},
   "outputs": [
    {
     "data": {
      "text/plain": [
       "(array([144.737 ,  34.7794,   1.    ]),\n",
       " array([1.21835822e+04, 6.15451021e+02, 1.00000000e+00]),\n",
       " array([8.76075254e+00, 2.02616837e+04, 1.00000000e+00]),\n",
       " array([960, 540,   1]),\n",
       " array([-0.04761926,  0.98727215,  0.15174356, 10.        ]),\n",
       " 3031.219339667006)"
      ]
     },
     "execution_count": 5,
     "metadata": {},
     "output_type": "execute_result"
    }
   ],
   "source": [
    "from __future__ import division\n",
    "from __future__ import print_function\n",
    "import numpy as np\n",
    "import math\n",
    "\n",
    "def getFocal(vp1, vp2, pp):\n",
    "    return math.sqrt(- np.dot(vp1[0:2]-pp[0:2], vp2[0:2]-pp[0:2]))\n",
    "\n",
    "def isPointBetweenLines(p, l1, l2):\n",
    "    return np.dot(p,l1)*np.dot(p,l2)*np.dot(l1[0:2],l2[0:2]) <= 0\n",
    "\n",
    "def computeCameraCalibration(_vp1, _vp2, _pp):\n",
    "    vp1 = np.concatenate((_vp1, [1]))    \n",
    "    vp2 = np.concatenate((_vp2, [1]))    \n",
    "    pp = np.concatenate((_pp, [1]))    \n",
    "    focal = getFocal(vp1, vp2, pp)\n",
    "    vp1W = np.concatenate((_vp1, [focal]))    \n",
    "    vp2W = np.concatenate((_vp2, [focal]))    \n",
    "    ppW = np.concatenate((_pp, [0])) \n",
    "    vp3W = np.cross(vp1W-ppW, vp2W-ppW)\n",
    "    vp3 = np.concatenate((vp3W[0:2]/vp3W[2]*focal + ppW[0:2], [1]))\n",
    "    vp3Direction = np.concatenate((vp3[0:2], [focal]))-ppW\n",
    "    roadPlane = np.concatenate((vp3Direction/np.linalg.norm(vp3Direction), [10]))\n",
    "    return vp1, vp2, vp3, pp, roadPlane, focal\n",
    "\n",
    "def getWorldCoordinagesOnRoadPlane(p, focal, roadPlane, pp):\n",
    "    p = p/p[2]\n",
    "    pp = pp/pp[2]\n",
    "    ppW = np.concatenate((pp[0:2], [0]))\n",
    "    pW = np.concatenate((p[0:2], [focal]))\n",
    "    dirVec = pW - ppW\n",
    "    t = -np.dot(roadPlane, np.concatenate((ppW, [1])))/np.dot(roadPlane[0:3], dirVec)\n",
    "    return ppW + t*dirVec\n",
    "\n",
    "vp1 = np.array([144.737, 34.7794])\n",
    "vp2 = np.array([12183.582175112755, 615.451021479187])\n",
    "pp = np.array([960, 540])\n",
    "computeCameraCalibration(vp1,vp2,pp)\n"
   ]
  },
  {
   "cell_type": "code",
   "execution_count": 29,
   "metadata": {},
   "outputs": [],
   "source": [
    "from __future__ import division\n",
    "\n",
    "import matplotlib\n",
    "matplotlib.rcParams['text.latex.unicode'] = True\n",
    "font = {'size'   : 13}\n",
    "matplotlib.rc('font', **font)\n",
    "\n",
    "import scipy.ndimage\n",
    "import scipy.stats\n",
    "import scipy.optimize\n",
    "import matplotlib.pyplot as plt\n",
    "import json\n",
    "import scipy.stats\n",
    "from tabulate import tabulate\n",
    "import operator\n",
    "import itertools\n",
    "import sys\n",
    "import argparse\n",
    "from matplotlib.ticker import MultipleLocator\n",
    "\n",
    "def getPathForRecording(session, recording):\n",
    "    return os.path.join('./dataset/', \"%s_%s\"%(session, recording))\n",
    "\n",
    "def getCarTimeAndSpatialIntersection(line, posX, posY, frames, around=6):\n",
    "    points = map(lambda x,y,f: (np.array([x,y, 1]),f), posX, posY, frames)\n",
    "    points.sort(key=lambda i: pointToLineDistance(i[0], line))\n",
    "    getItems = lambda getter: map(getter, points[:min(around,len(points))])\n",
    "    spatialLineSlope, spatialLineIntercept = scipy.stats.linregress(getItems(lambda i: i[0][0]),\n",
    "                                                                    getItems(lambda i: i[0][1]))[:2]\n",
    "    spatialLine = np.array([spatialLineSlope, -1, spatialLineIntercept])\n",
    "    spatialIntersection = np.cross(spatialLine, line)\n",
    "    spatialIntersection = spatialIntersection/spatialIntersection[-1]\n",
    "\n",
    "    frameNumbers = getItems(lambda i: i[1])\n",
    "    normalizationPoint = np.cross(spatialLine, [0,1,0])\n",
    "    normalizationPoint = normalizationPoint/normalizationPoint[-1]\n",
    "    pointsProjected = map(lambda p: pointToLineProjection(spatialLine, p[0]), points[:min(around,len(points))])\n",
    "    pointsDists = map(lambda p: np.linalg.norm(normalizationPoint-p), pointsProjected)\n",
    "    temporalLineSlope, temporalLineIntercept = scipy.stats.linregress(pointsDists,frameNumbers)[:2]\n",
    "    temporalIntersection = temporalLineSlope * np.linalg.norm(spatialIntersection-normalizationPoint) + temporalLineIntercept\n",
    "\n",
    "    return spatialIntersection, temporalIntersection, spatialLine\n",
    "\n",
    "\n",
    "def pointToLineProjection(l, p):\n",
    "    p = p/p[-1]\n",
    "    c = p[0]*l[1] - p[1]*l[0]\n",
    "    perpendicularLine = np.array([-l[1], l[0], c])\n",
    "    intersection = np.cross(l, perpendicularLine)\n",
    "    return intersection/intersection[-1]\n",
    "        \n",
    "def pointToLineDistance(p, l):\n",
    "    return abs(np.dot(l,p/p[2]))/np.linalg.norm(l[0:2])\n",
    "\n",
    "def calculateSpeeds(data, gtData, us = False, show = ['frame',1]):\n",
    "    '''\n",
    "    Okay, now we will find the meaning of each line of code. I'm sure this guy is a student. A clever student\n",
    "    '''    \n",
    "    # this line, of course, no need to explain\n",
    "    if us == False:\n",
    "        vp1, vp2, vp3, pp, roadPlane, focal = computeCameraCalibration(data[\"camera_calibration\"][\"vp1\"],\n",
    "                                                            data[\"camera_calibration\"][\"vp2\"],\n",
    "                                                            data[\"camera_calibration\"][\"pp\"])\n",
    "    elif us == True:\n",
    "        vp1 = np.array([144.737, 34.7794])\n",
    "        vp2 = np.array([12183.5821511755, 615.451021479187])\n",
    "        pp = np.array([960,540])\n",
    "#         vp1 = np.array([133.5099, 31.3907])\n",
    "#         vp2 = np.array([10794,774.1463])\n",
    "        vp1, vp2, vp3, pp, roadPlane, focal = computeCameraCalibration(vp1,\n",
    "                                                                vp2,\n",
    "                                                                pp)\n",
    "    #     vp3 = np.array([945.0162,1002,1])\n",
    "#         focal = 461.3994\n",
    "#         roadPlane = np.array([-0.0229, 0.7074, 0.7064, 10])\n",
    "\n",
    "    # ah, lambda, remember it, my friend? 1 way in, 1 value out, impress. This line take the path of gtData\n",
    "#     pTran = lambda p: os.path.join(getPathForRecording(sessionId, recordingId), p)\n",
    "    lines = gtData[\"measurementLines\"]\n",
    "    laneDivLines = gtData[\"laneDivLines\"]\n",
    "    laneDivLines[3]=np.array([0.57,-1,-47.39])\n",
    "    fps = gtData[\"fps\"]\n",
    "    errors = 0\n",
    "    count_car = 0\n",
    "\n",
    "    for car in data[\"cars\"]:\n",
    "        if car['id'] not in temp:\n",
    "            continue\n",
    "        intersectionData = map(lambda l: getCarTimeAndSpatialIntersection(l, car[\"posX\"], car[\"posY\"], car[\"frames\"]), lines)\n",
    "        startSpatial, startFrame, startLineSpatial = intersectionData[-1]\n",
    "        endSpatial, endFrame, endLineSpatial = intersectionData[0]\n",
    "#         test on poorly approximated intersections\n",
    "#         testMat = np.concatenate((endSpatial, startSpatial,\n",
    "#                                   [startFrame, endFrame]))\n",
    "        startPoint = [car[\"posY\"][0],car[\"posX\"][0],1]\n",
    "        endPoint = [car[\"posY\"][-1],car[\"posX\"][-1],1]\n",
    "        '''\n",
    "        debug, fourth lane\n",
    "        '''\n",
    "#         car_with_problem = [279,297,422]\n",
    "#         if car['id'] in car_with_problem:\n",
    "#             print(car['id'])\n",
    "#             print(np.any(np.isnan(testMat)))\n",
    "#             print(np.any(np.isinf(testMat)))\n",
    "#             print(getLaneForPoint(endSpatial, laneDivLines))\n",
    "#             print(getLaneForPoint(startSpatial, laneDivLines))\n",
    "#             print(testMat)\n",
    "#             print((np.any(np.isnan(testMat)) or \\\n",
    "#                 np.any(np.isinf(testMat)) or \\\n",
    "#                 getLaneForPoint(endSpatial, laneDivLines) is None or \\\n",
    "#                 getLaneForPoint(startSpatial, laneDivLines) is None))\n",
    "#             print(startSpatial,endSpatial)\n",
    "#             print(startPoint,endPoint)\n",
    "#             print(getLaneForPoint(endPoint, laneDivLines))\n",
    "#             print(getLaneForPoint(startPoint, laneDivLines))\n",
    "#             print(laneDivLines)\n",
    "       \n",
    "        \n",
    "#         if not (np.any(np.isnan(testMat)) or \\\n",
    "#                 np.any(np.isinf(testMat)) or \\\n",
    "#                 getLaneForPoint(endSpatial, laneDivLines) is None or \\\n",
    "#                 getLaneForPoint(startSpatial, laneDivLines) is None):\n",
    "        \n",
    "        \n",
    "        '''\n",
    "        debug, close bug\n",
    "        '''\n",
    "        \n",
    "        if not(getLaneForPoint(startPoint, laneDivLines) is None or \\\n",
    "               getLaneForPoint(endPoint, laneDivLines) is None):\n",
    "            if count_car == show[1]:\n",
    "                break\n",
    "#             elapsedTime = abs(endFrame-startFrame)/fps\n",
    "            projector = lambda p: getWorldCoordinagesOnRoadPlane(p, focal, roadPlane, pp)\n",
    "#             passedDistance = data[\"camera_calibration\"][\"scale\"]*np.linalg.norm(projector(startSpatial)-projector(endSpatial))\n",
    "#             car[\"speed\"] = passedDistance/elapsedTime * 3.6\n",
    "#             print('Best measure: {}'.format(car[\"speed\"]))\n",
    "#             car[\"laneIndex\"] = getLaneForPoint(endSpatial, laneDivLines)\n",
    "#             car[\"timeIntersectionLast\"] = endFrame/fps\n",
    "\n",
    "#             car[\"timeIntersectionFirst\"] = startFrame/fps\n",
    "#             car[\"spatialIntersectionFirst\"] = startSpatial\n",
    "#             car[\"spatialIntersectionLast\"] = endSpatial\n",
    "            points = map(lambda x,y: np.array([x,y,1]), car[\"posX\"], car[\"posY\"])\n",
    "            points = map(projector, points)\n",
    "            frames = car[\"frames\"]\n",
    "            perFrameSpeeds = []\n",
    "            lanes = []\n",
    "            pointsOffset = 5\n",
    "            '''\n",
    "            Toby\n",
    "            '''\n",
    "            count = 0\n",
    "            for i in xrange(len(points)-pointsOffset):\n",
    "                passedDistance = data[\"camera_calibration\"][\"scale\"]*np.linalg.norm(points[i]-points[i+pointsOffset])\n",
    "                elapsedTime = abs(frames[i]-frames[i+pointsOffset])/fps\n",
    "                p = np.array([car['posY'][count],car['posX'][count],1])\n",
    "                '''\n",
    "                Toby\n",
    "                '''\n",
    "#                 if show[0] == 'frame':\n",
    "#                     print('At frame: {} with ID: {} is {}'.format(car['frames'][count],car['id'],passedDistance/elapsedTime * 3.6))\n",
    "                perFrameSpeeds.append(passedDistance/elapsedTime * 3.6)\n",
    "                lanes.append(getLaneForPoint(p,laneDivLines))\n",
    "                count+=1\n",
    "            \n",
    "            car['speedOffset'] = perFrameSpeeds\n",
    "            car[\"medianSpeed\"] = np.median(perFrameSpeeds)\n",
    "            car['lanes'] = lanes\n",
    "#             if show[0] == 'median' and count_car < show[1]:\n",
    "#                 print(str(car['id']) + ': ' + str(car[\"medianSpeed\"]))\n",
    "            count_car+=1\n",
    "    return data\n",
    "\n",
    "def showSpeeds(video_path, data, output):\n",
    "    cap = cv2.VideoCapture(video_path)\n",
    "    frame_width = int(cap.get(3))\n",
    "    frame_height = int(cap.get(4))\n",
    "    if not output is None:\n",
    "        out = cv2.VideoWriter(output,cv2.VideoWriter_fourcc('M','J','P','G'), 25, (frame_width,frame_height))\n",
    "    window_name = 'frame'\n",
    "    cv2.namedWindow(window_name,cv2.WINDOW_NORMAL)\n",
    "    font = cv2.FONT_HERSHEY_SIMPLEX \n",
    "    org = (50, 50) \n",
    "    fontScale = 1\n",
    "    color = (255, 0, 0) \n",
    "    thickness = 3\n",
    "    frame_num = 0\n",
    "    if (cap.isOpened()==False):\n",
    "        print('Please check the video_path!!!')   \n",
    "    while(cap.isOpened()):\n",
    "        ret,frame = cap.read()\n",
    "        if frame_num in data.keys():\n",
    "            fault = True\n",
    "            frame_fault = 0\n",
    "            text = 'Normal'\n",
    "            for package in data[frame_num]:\n",
    "                if package[5]==1:\n",
    "                    text = 'Fault'\n",
    "                frame = cv2.putText(frame, 'ID: '+str(int(package[2])), (int(package[1]-10),int(package[0]-10)), font,  \n",
    "                       fontScale, color, thickness, cv2.LINE_AA) \n",
    "                frame = cv2.putText(frame, 'Speed: '+str(package[3]), (int(package[1])+10,int(package[0])+10), font,  \n",
    "                       fontScale, color, thickness, cv2.LINE_AA)\n",
    "                frame = cv2.putText(frame, 'Lane: '+str(package[4]), (int(package[1])+30,int(package[0])+30), font,  \n",
    "                       fontScale, color, thickness, cv2.LINE_AA)\n",
    "                frame = cv2.putText(frame, 'Cross the line: '+ text, (int(package[1])+50,int(package[0])+50), font,  \n",
    "                       fontScale, color, thickness, cv2.LINE_AA)\n",
    "        if not output is None:\n",
    "            out.write(frame)\n",
    "        cv2.resizeWindow(window_name, 900,600)\n",
    "        cv2.imshow(window_name, frame)\n",
    "        frame_num+=1\n",
    "        if cv2.waitKey(25) & 0xFF == ord('q'):\n",
    "            break\n",
    "    cap.release()\n",
    "    if not output is None:\n",
    "        out.release()\n",
    "    cv2.destroyAllWindows()"
   ]
  },
  {
   "cell_type": "code",
   "execution_count": 7,
   "metadata": {},
   "outputs": [],
   "source": [
    "import numpy as np\n",
    "def findCrossLines(lanes):\n",
    "    #lanes is a list contain each lane of 1 ID in each frame\n",
    "    check = [0]\n",
    "    fault = 0\n",
    "    for i in xrange(len(lanes)-1):   \n",
    "        if lanes[i] != lanes[i+1]:\n",
    "            fault = 1\n",
    "        check.append(fault)\n",
    "    return check\n",
    "        \n",
    "def sortByFrame(data):\n",
    "    first = True\n",
    "    for car in data['cars']:\n",
    "        try:\n",
    "            lenSpeed = len(car['speedOffset'])\n",
    "        except:\n",
    "            continue\n",
    "        posX = np.array(car['posX'][:lenSpeed], ndmin = 2)\n",
    "        posY = np.array(car['posY'][:lenSpeed], ndmin = 2)\n",
    "        frame = np.array(car['frames'][:lenSpeed], ndmin = 2)\n",
    "        ID = np.full((1,lenSpeed), car['id'])\n",
    "        speed = np.array(car['speedOffset'], ndmin = 2)\n",
    "        lane = np.array(car['lanes'], ndmin = 2)\n",
    "        check = map(lambda l: findCrossLines(l), lane)\n",
    "        package = np.concatenate((posX,posY,ID,speed,lane,check,frame), axis = 0).T\n",
    "        if first:\n",
    "            all_package = package\n",
    "            first = False\n",
    "        else:\n",
    "            all_package = np.concatenate((all_package, package))\n",
    "#     all_package = np.asarray(sorted(all_package, key=lambda x: x[4]))\n",
    "    all_package = all_package[all_package[:,6].argsort()]\n",
    "    dict_package = {}\n",
    "    for package in all_package:\n",
    "        if package[6] in dict_package.keys():\n",
    "            dict_package[package[6]].append(package[:6])\n",
    "        else:\n",
    "            dict_package[package[6]] = [package[:6]]\n",
    "    return dict_package\n",
    "\n"
   ]
  },
  {
   "cell_type": "markdown",
   "metadata": {},
   "source": [
    "# Session0_center"
   ]
  },
  {
   "cell_type": "code",
   "execution_count": 11,
   "metadata": {},
   "outputs": [],
   "source": [
    "import pickle\n",
    "import cPickle\n",
    "from matplotlib import pyplot as plt\n",
    "# for lap\n",
    "# data_link = \"C:/Users/TobyCurtis/Desktop/final_project/BrnoCompSpeed/code/dataset/session0_center/gt_data.pkl\"\n",
    "\n",
    "# for PC\n",
    "data_link = \"C:/Users/ADMINS/Desktop/final_project/BrnoCompSpeed/code/dataset/session0_center/gt_data.pkl\"\n",
    "\n",
    "with open(data_link, 'rb') as fid:\n",
    "    gtData = cPickle.load(fid)"
   ]
  },
  {
   "cell_type": "code",
   "execution_count": 31,
   "metadata": {},
   "outputs": [
    {
     "name": "stdout",
     "output_type": "stream",
     "text": [
      "distanceMeasurement\n",
      "measurementLines\n",
      "cars\n",
      "fps\n",
      "invalidLanes\n",
      "laneDivLines\n",
      "[array([ -0.92226493,   0.38655841, 130.89136422]), array([-0.78325241,  0.62170384, 97.52101372]), array([-0.65281474,  0.7575176 , 71.40300615]), array([  0.57,  -1.  , -47.39])]\n"
     ]
    }
   ],
   "source": [
    "for key, value in gtData.iteritems() :\n",
    "    print(key)\n",
    "print(gtData['laneDivLines'])"
   ]
  },
  {
   "cell_type": "code",
   "execution_count": 36,
   "metadata": {},
   "outputs": [
    {
     "name": "stdout",
     "output_type": "stream",
     "text": [
      "False\n"
     ]
    }
   ],
   "source": [
    "a = set()\n",
    "a.add(1)\n",
    "a.add(2)\n",
    "print(3 in a)"
   ]
  },
  {
   "cell_type": "code",
   "execution_count": 30,
   "metadata": {},
   "outputs": [
    {
     "name": "stdout",
     "output_type": "stream",
     "text": [
      "285\n",
      "[23.324475700058198, 25.925994571897558, 28.298018793740148, 30.989956522046185, 29.72617349357867, 29.366411999684345, 30.25140696519203, 28.994871561195765, 28.41367849744269, 29.309160188222506, 29.264883013050273, 28.57252719422328, 29.61737991881427, 29.98325665124152, 29.308597719920233, 29.25071808418721, 28.56823469346728, 28.718231064818713, 28.240129908829555, 27.846183251649666, 28.181537274230028, 29.035610041738195, 28.273519343960174, 27.983564137728262, 28.968923477026173, 28.344797983498054, 28.04521117701355, 28.904687489952735, 29.392496472738642, 28.846171621761304, 29.32886908133587, 28.746763402159132, 27.27580786740102, 27.94088273817173, 27.046991678732955, 26.819420715009393, 26.245523554803714, 27.864064745703125, 25.584927373456775, 27.533813751848907, 27.13158054232966, 26.896139834900833, 27.85450432234008, 28.327149411043187]\n",
      "301\n",
      "[17.78510707982839, 20.018349241169, 22.849490150097374, 23.657839543550985, 23.022359638536198, 24.082292459881682, 23.06183084597874, 23.67006167161069, 23.87576931894997, 24.250132843136694, 23.16046912032784, 24.5827041627552, 23.394597281488885, 23.912697213094933, 24.327878364307043, 23.88764112321763, 23.55436541448541, 23.420076199256734, 22.529152259133348, 23.561245153716246, 23.587070057473287, 23.16992908829941, 23.75404689074452, 23.76827663179889, 21.740228838281624, 22.038477621210276, 22.56467209818737, 21.89217906014802, 23.156937238420905, 24.497537347401103, 22.901324140389054, 23.22070017011877, 23.84475948154756, 22.15978920476182, 22.64570592948872, 24.226501423869017, 23.698098003242727, 23.52562444426929, 24.165128984600514, 23.021729268632086, 21.57005895921906, 23.543316795161175, 23.19518531678283, 22.37841666372209, 21.572759361452675, 24.845500300911134, 23.11261014570965, 23.153723726327772, 23.48924558795293, 23.428237728252647, 20.969272835865098, 22.033088006661504, 21.819011503452305, 21.021946118014164, 21.2733215606802, 18.899962993302985, 19.428430575867385, 19.739492071228575, 21.337756061059377, 21.48169005827912]\n",
      "309\n",
      "[28.39409132314191, 32.16596897001056, 34.82166457638747, 37.836666719827846, 42.89676093680203, 39.87455384615489, 38.842923228176765, 37.451828259465806, 36.89404976938597, 34.075371738058806, 35.162375234722326, 31.389318559499497, 32.21295573689839, 31.76871240043317, 35.14130650115211, 32.53906090760451, 33.75669526092527, 32.33876749194271, 33.88797690021041, 31.390053994322365, 30.68188104425683, 30.610513632204196, 29.362137873491157, 26.915664406745613, 30.390399087376476, 30.803911148245824, 31.330921448585812, 33.43133810708644, 34.61155284387472, 32.123518017568514, 31.139277796547375, 29.160269880161533, 25.036803864005307, 21.40392984533599, 25.3294800586561, 28.2490493818438, 26.28638111444242, 32.831130573671146, 36.943737073915344, 32.37731641934273, 29.14197501357336, 32.68979643385279, 29.578953663853653, 27.936521184776378, 26.5859847530188, 30.681263777333726, 28.454195456799244, 26.116558625845915, 27.062308107266677, 25.768117975669497, 22.88922363417973, 25.101014358114988]\n",
      "313\n",
      "[28.474458925377366, 26.270062737415813, 25.19748275253026, 24.8672467049311, 26.355443500796397, 24.43111781418295, 23.84160095613771, 23.631909643396376, 24.20115575746779, 24.438959422770644, 24.35244704623298, 23.836053831036622, 21.186247698274194, 22.219140867057163, 21.08887229357494, 20.117913359077484, 21.27461810493073, 24.07641617083456, 21.65643780990634, 20.444800618414998, 21.76368846991479, 22.426217518072914, 17.970872873493374, 18.58592269826299, 20.984896709603, 21.325193428680123, 19.59813414325093, 21.848258182639512, 23.67691598999082, 22.167427006551222, 20.80628990928919, 20.691802240944416, 23.55486385398337, 21.408720901829362, 23.0879686836206, 20.40135751751152, 20.9122280986436, 16.28003309210759, 18.245021254233347, 15.906816736260305, 20.653403429971423, 20.461381906012154, 25.558236194298782, 22.81700927066344, 23.596021673847396, 21.0697666359803, 22.04958590881826, 19.169441183672976, 18.861880536141904, 19.102290852149064, 19.134500844467517, 19.22312262591864, 19.93789480811927, 22.422230403796053, 21.401198511405134, 21.986297067214625, 20.351723179697558, 19.031430158371272, 20.112079308746655, 18.988895964404133, 17.955376304689157, 16.482285137952196, 16.184643270311756, 15.978787099564691, 19.486039845499054, 20.846503469462707]\n",
      "335\n",
      "[30.052386022003933, 32.6403582402957, 31.790219957888475, 30.988801934212148, 31.165464692222233, 30.7554741334959, 30.4033611836229, 29.576037087349025, 29.990464362426977, 30.385804149877238, 30.70895653776078, 30.429582722362422, 31.539310197957416, 31.55700661462825, 30.869444612885992, 30.383168911947777, 30.011146253750873, 29.748064045028258, 28.459438605845182, 29.072382429548195, 28.512849764977922, 29.59841720171054, 28.954602106652857, 30.500533772713126, 29.182711534106204, 29.58413907355971, 29.765236864434552, 30.42130996204135, 29.315915514242562, 30.042404435537538, 29.09557399183132, 27.427603486419407, 27.21524425302749, 27.12512559153953, 26.634986597151617, 28.41994796117038, 28.48561320916328, 28.46357097510323, 28.788921825987128, 28.875787012647535, 27.169686342815424, 28.089194639863344, 27.089772430263967, 27.169582881983565, 26.302111456101446, 25.997220305940694, 24.620736957354502, 24.88218275080099, 25.336930392218264, 25.07208445860462, 27.103813317426773, 27.891733138433377, 29.494760179787757, 28.15491583747327, 27.00420055465191, 26.12709207860654, 24.08380283451691, 21.37048997662121, 19.789044076017387]\n"
     ]
    }
   ],
   "source": [
    "from __future__ import division\n",
    "from __future__ import print_function\n",
    "import json\n",
    "\n",
    "gD = gtData\n",
    "system = 'GPsys'\n",
    "\n",
    "# video path on lap\n",
    "video = 'C:/Users/TobyCurtis/Desktop/front.avi'\n",
    "\n",
    "#video path on PC\n",
    "# video = 'Z:/Vehicle speed measuring/video_speed measure/front.avi'\n",
    "\n",
    "# Brno data on lap\n",
    "# data = json.load(open('C:/Users/TobyCurtis/Desktop/final_project/BrnoCompSpeed/code/results/session0_center/system_dubska_optimal_calib.json'))\n",
    "\n",
    "# Brno data on PC\n",
    "# data = json.load(open('C:/Users/ADMINS/Desktop/final_project/BrnoCompSpeed/code/results/session0_center/system_dubska_optimal_calib.json'))\n",
    "\n",
    "# Our data on lap\n",
    "# data = json.load(open('C:/Users/TobyCurtis/Desktop/final_project/result.json'))\n",
    "\n",
    "# Our data on PC\n",
    "# data = json.load(open('C:/Users/ADMINS/Desktop/final_project/result.json'))\n",
    "\n",
    "# Our data from middle on lap\n",
    "# data = json.load(open('C:/Users/TobyCurtis/Desktop/final_project/result_500.json'))\n",
    "\n",
    "# Our data from middle from PC\n",
    "# data = json.load(open('C:/Users/ADMINS/Desktop/final_project/result_500.json'))\n",
    "\n",
    "# Brand new\n",
    "data = json.load(open('C:/Users/ADMINS//Desktop/final_project/result_new.json'))\n",
    "# data = json.load(open('C:/Users/TobyCurtis/Desktop/final_project/result_new.json'))\n",
    "\n",
    "data = calculateSpeeds(data, gD, us = True, show = ['median',50])\n",
    "# data_show = sortByFrame(data)\n",
    "# showSpeeds(video, data_show,'C:/Users/ADMINS/Desktop/speedAndLines.avi')\n",
    "# showSpeeds(video, data_show,'C:/Users/TobyCurtis/Desktop/speedAndLines.avi')\n"
   ]
  },
  {
   "cell_type": "code",
   "execution_count": 115,
   "metadata": {},
   "outputs": [
    {
     "data": {
      "text/plain": [
       "10"
      ]
     },
     "execution_count": 115,
     "metadata": {},
     "output_type": "execute_result"
    }
   ],
   "source": [
    "# 287 285, opposite"
   ]
  },
  {
   "cell_type": "code",
   "execution_count": 60,
   "metadata": {},
   "outputs": [
    {
     "data": {
      "text/plain": [
       "False"
      ]
     },
     "execution_count": 60,
     "metadata": {},
     "output_type": "execute_result"
    }
   ],
   "source": [
    "def isPointBetweenLines(p, l1, l2):\n",
    "    return np.dot(p,l1)*np.dot(p,l2)*np.dot(l1[0:2],l2[0:2]) <= 0\n",
    "l1 = np.array([-0.65281474,  0.7575176 , 71.40300615])\n",
    "l2 = np.array([  0.57,  -1.  , -47.39])\n",
    "p = np.array([499.26340711, 635.35478291,   1.        ])\n",
    "isPointBetweenLines(p,l1,l2)\n"
   ]
  },
  {
   "cell_type": "code",
   "execution_count": 51,
   "metadata": {},
   "outputs": [
    {
     "name": "stdout",
     "output_type": "stream",
     "text": [
      "301.268432664 544.844186231\n"
     ]
    }
   ],
   "source": [
    "def searchCarByID(data, ID):\n",
    "    for car in data['cars']:\n",
    "        if car['id'] == ID:\n",
    "            return car\n",
    "b = searchCarByID(data, 297)\n",
    "print(b['posX'][0],b['posY'][0])\n",
    "# print(b['posX'][0],b['posX'][-1])   "
   ]
  },
  {
   "cell_type": "code",
   "execution_count": 32,
   "metadata": {},
   "outputs": [
    {
     "data": {
      "text/plain": [
       "False"
      ]
     },
     "execution_count": 32,
     "metadata": {},
     "output_type": "execute_result"
    }
   ],
   "source": [
    "testMat = [526.35917247, 871.71218078,   1. ,        366.15914674, 634.74802283\n",
    "   ,1.         ,190.08498706, 221.11295049]\n",
    "np.any(np.isnan(testMat))\n",
    "# print(np.any(np.isnan(testMat)))\n",
    "# print(np.any(np.isinf(testMat)))\n"
   ]
  },
  {
   "cell_type": "code",
   "execution_count": 21,
   "metadata": {},
   "outputs": [
    {
     "ename": "IOError",
     "evalue": "[Errno 2] No such file or directory: 'C:/Users/TobyCurtis/Desktop/final_project/result_500.json'",
     "output_type": "error",
     "traceback": [
      "\u001b[1;31m---------------------------------------------------------------------------\u001b[0m",
      "\u001b[1;31mIOError\u001b[0m                                   Traceback (most recent call last)",
      "\u001b[1;32m<ipython-input-21-b5c58c69bc3b>\u001b[0m in \u001b[0;36m<module>\u001b[1;34m()\u001b[0m\n\u001b[0;32m      7\u001b[0m \u001b[1;31m# data = json.load(open('C:/Users/TobyCurtis/Desktop/final_project/BrnoCompSpeed/code/results/session0_center/system_dubska_optimal_calib.json'))\u001b[0m\u001b[1;33m\u001b[0m\u001b[1;33m\u001b[0m\u001b[0m\n\u001b[0;32m      8\u001b[0m \u001b[1;31m# data = json.load(open('C:/Users/ADMINS/Desktop/result.json'))\u001b[0m\u001b[1;33m\u001b[0m\u001b[1;33m\u001b[0m\u001b[0m\n\u001b[1;32m----> 9\u001b[1;33m \u001b[0mdata\u001b[0m \u001b[1;33m=\u001b[0m \u001b[0mjson\u001b[0m\u001b[1;33m.\u001b[0m\u001b[0mload\u001b[0m\u001b[1;33m(\u001b[0m\u001b[0mopen\u001b[0m\u001b[1;33m(\u001b[0m\u001b[1;34m'C:/Users/TobyCurtis/Desktop/final_project/result_500.json'\u001b[0m\u001b[1;33m)\u001b[0m\u001b[1;33m)\u001b[0m\u001b[1;33m\u001b[0m\u001b[0m\n\u001b[0m\u001b[0;32m     10\u001b[0m \u001b[1;33m\u001b[0m\u001b[0m\n\u001b[0;32m     11\u001b[0m \u001b[0mtemp\u001b[0m \u001b[1;33m=\u001b[0m \u001b[0mcalculateSpeeds\u001b[0m\u001b[1;33m(\u001b[0m\u001b[0mdata\u001b[0m\u001b[1;33m,\u001b[0m \u001b[0mgD\u001b[0m\u001b[1;33m,\u001b[0m \u001b[0mus\u001b[0m \u001b[1;33m=\u001b[0m \u001b[0mTrue\u001b[0m\u001b[1;33m,\u001b[0m \u001b[0mshow\u001b[0m \u001b[1;33m=\u001b[0m \u001b[1;33m[\u001b[0m\u001b[1;34m'median'\u001b[0m\u001b[1;33m,\u001b[0m\u001b[1;36m10\u001b[0m\u001b[1;33m]\u001b[0m\u001b[1;33m)\u001b[0m\u001b[1;33m\u001b[0m\u001b[0m\n",
      "\u001b[1;31mIOError\u001b[0m: [Errno 2] No such file or directory: 'C:/Users/TobyCurtis/Desktop/final_project/result_500.json'"
     ]
    }
   ],
   "source": [
    "from __future__ import division\n",
    "from __future__ import print_function\n",
    "import json\n",
    "\n",
    "gD = gtData\n",
    "system = 'GPsys'\n",
    "# data = json.load(open('C:/Users/TobyCurtis/Desktop/final_project/BrnoCompSpeed/code/results/session0_center/system_dubska_optimal_calib.json'))\n",
    "# data = json.load(open('C:/Users/ADMINS/Desktop/result.json'))\n",
    "data = json.load(open('C:/Users/TobyCurtis/Desktop/final_project/result_500.json'))\n",
    "\n",
    "temp = calculateSpeeds(data, gD, us = True, show = ['median',10])"
   ]
  },
  {
   "cell_type": "code",
   "execution_count": 37,
   "metadata": {},
   "outputs": [
    {
     "name": "stdout",
     "output_type": "stream",
     "text": [
      "281: 45.67227951968226\n",
      "280: 51.68199025219607\n",
      "279: 50.15425686516224\n",
      "300: nan\n",
      "321: nan\n",
      "328: nan\n",
      "350: 50.7190528938274\n",
      "352: nan\n",
      "369: nan\n",
      "398: 25.75439883764166\n"
     ]
    }
   ],
   "source": [
    "from __future__ import division\n",
    "from __future__ import print_function\n",
    "import json\n",
    "\n",
    "gD = gtData\n",
    "system = 'GPsys'\n",
    "# data = json.load(open('C:/Users/TobyCurtis/Desktop/final_project/BrnoCompSpeed/code/results/session0_center/system_dubska_optimal_calib.json'))\n",
    "# data = json.load(open('C:/Users/ADMINS/Desktop/result.json'))\n",
    "data = json.load(open('C:/Users/TobyCurtis/Desktop/final_project/result.json'))\n",
    "\n",
    "temp = calculateSpeeds(data, gD, us = False, show = ['median',10])"
   ]
  },
  {
   "cell_type": "code",
   "execution_count": 38,
   "metadata": {},
   "outputs": [
    {
     "name": "stdout",
     "output_type": "stream",
     "text": [
      "3\n",
      "[0.0, 1.0, 2.0, 3.0, 4.0, 5.0, 6.0, 7.0, 8.0, 9.0, 10.0, 11.0, 12.0, 13.0, 14.0, 15.0, 16.0, 17.0, 18.0, 19.0, 20.0, 21.0, 22.0, 23.0, 24.0, 25.0, 26.0, 27.0, 28.0, 29.0, 30.0, 31.0, 32.0, 33.0, 34.0, 35.0, 36.0, 37.0, 38.0, 39.0, 40.0, 41.0, 42.0, 43.0, 44.0, 45.0, 46.0, 47.0, 48.0, 49.0, 50.0, 51.0, 52.0, 53.0, 54.0, 55.0, 56.0, 57.0, 58.0, 59.0, 60.0, 61.0, 62.0, 63.0, 64.0, 65.0, 66.0, 67.0, 68.0, 69.0, 70.0, 71.0, 72.0, 73.0, 74.0, 75.0, 76.0, 77.0, 78.0, 79.0, 80.0, 81.0, 82.0, 83.0, 84.0, 85.0, 86.0, 87.0, 88.0, 89.0, 90.0, 91.0, 92.0, 93.0, 94.0, 95.0, 96.0, 97.0, 98.0, 99.0, 100.0, 101.0, 102.0, 103.0, 104.0, 105.0, 106.0, 107.0, 108.0, 109.0, 110.0, 111.0, 112.0, 113.0, 114.0, 115.0, 116.0, 117.0, 118.0, 119.0, 120.0, 121.0, 122.0, 123.0, 124.0, 125.0, 126.0, 127.0, 128.0, 129.0, 130.0, 131.0, 132.0, 133.0, 134.0, 135.0, 136.0, 137.0, 138.0, 139.0, 140.0, 141.0, 142.0, 143.0, 144.0, 145.0, 146.0, 147.0, 148.0, 149.0, 150.0, 151.0, 152.0, 153.0, 154.0, 155.0, 156.0, 157.0, 158.0, 159.0, 160.0, 161.0, 162.0, 163.0, 164.0, 165.0, 166.0, 167.0, 168.0, 169.0, 170.0, 171.0, 172.0, 173.0, 174.0, 175.0, 176.0, 177.0, 178.0, 179.0, 180.0, 181.0, 182.0, 183.0, 184.0, 185.0, 186.0, 187.0, 188.0, 189.0, 190.0, 191.0, 192.0, 193.0, 194.0, 195.0, 196.0, 197.0, 198.0, 199.0, 200.0, 201.0, 202.0, 203.0, 204.0, 205.0, 206.0, 207.0, 208.0, 209.0, 210.0, 211.0, 212.0, 213.0, 214.0, 215.0, 216.0, 217.0, 218.0, 219.0, 220.0, 221.0, 222.0, 223.0, 224.0, 225.0, 226.0, 227.0, 228.0, 229.0, 230.0, 231.0, 232.0, 233.0, 234.0, 235.0, 236.0, 237.0, 238.0, 239.0, 240.0, 241.0, 242.0, 243.0, 244.0, 245.0, 246.0, 247.0, 248.0, 249.0, 250.0, 251.0, 252.0, 253.0, 254.0, 255.0, 256.0, 257.0, 258.0, 259.0, 260.0, 261.0, 262.0, 263.0, 264.0, 265.0, 266.0, 267.0, 268.0, 269.0, 270.0, 271.0, 272.0, 273.0, 274.0, 275.0, 276.0, 277.0, 278.0, 279.0, 280.0, 281.0, 282.0, 283.0, 284.0, 285.0, 286.0, 287.0, 288.0, 289.0, 290.0, 291.0, 292.0, 293.0, 294.0, 295.0, 296.0, 297.0, 298.0, 299.0, 300.0, 301.0, 302.0, 303.0, 304.0, 305.0, 306.0, 307.0, 308.0, 309.0, 310.0, 311.0, 312.0, 313.0, 314.0, 315.0, 316.0, 317.0, 318.0, 319.0, 320.0, 321.0, 322.0, 323.0, 324.0, 325.0, 326.0, 327.0, 328.0, 329.0, 330.0, 331.0, 332.0, 333.0, 334.0, 335.0, 336.0, 337.0, 338.0, 339.0, 340.0, 341.0, 342.0, 343.0, 344.0, 345.0, 346.0, 347.0, 348.0, 349.0, 350.0, 351.0, 352.0, 353.0, 354.0, 355.0, 356.0, 357.0, 358.0, 359.0, 360.0, 361.0, 362.0, 363.0, 364.0, 365.0, 366.0, 367.0, 368.0, 369.0, 370.0, 371.0, 372.0, 373.0, 374.0, 375.0, 376.0, 377.0, 378.0, 379.0, 380.0, 381.0, 382.0, 383.0, 384.0, 385.0, 386.0, 387.0, 388.0, 389.0, 390.0, 391.0, 392.0, 393.0, 394.0, 395.0, 396.0, 397.0, 398.0, 399.0, 400.0, 401.0, 402.0, 403.0, 404.0, 405.0, 406.0, 407.0, 408.0, 409.0, 410.0, 411.0, 412.0, 413.0, 414.0, 415.0, 416.0, 417.0, 418.0, 419.0, 420.0, 421.0, 422.0, 423.0, 424.0, 425.0, 426.0, 427.0, 428.0, 429.0, 430.0, 431.0, 432.0, 433.0, 434.0, 435.0, 436.0, 437.0, 438.0, 439.0, 440.0, 441.0, 442.0, 443.0, 444.0, 445.0, 446.0, 447.0, 448.0, 449.0, 450.0, 451.0, 452.0, 453.0, 454.0, 455.0, 456.0, 457.0, 458.0, 459.0, 460.0, 461.0, 462.0, 463.0, 464.0, 465.0, 466.0, 467.0, 468.0, 469.0, 470.0, 471.0, 472.0, 473.0, 474.0, 475.0, 476.0, 477.0, 478.0, 479.0, 480.0, 481.0, 482.0, 483.0, 484.0, 485.0, 486.0, 487.0, 488.0, 489.0, 490.0, 491.0, 492.0, 493.0, 494.0, 495.0, 496.0, 497.0, 498.0, 499.0, 500.0, 501.0, 502.0, 503.0, 504.0, 505.0, 506.0, 507.0, 508.0, 509.0, 510.0, 511.0, 512.0, 513.0, 514.0, 515.0, 516.0, 517.0, 518.0, 519.0, 520.0, 521.0, 522.0, 523.0, 524.0, 525.0, 526.0, 527.0, 528.0, 529.0, 530.0, 531.0, 532.0, 533.0, 534.0, 535.0, 536.0, 537.0, 538.0, 539.0, 540.0, 541.0, 542.0, 543.0, 544.0, 545.0, 546.0, 547.0, 548.0, 549.0, 550.0, 551.0, 552.0, 553.0, 554.0, 555.0, 556.0, 557.0, 558.0, 559.0, 560.0, 561.0, 562.0, 563.0, 564.0, 565.0, 566.0, 567.0, 568.0, 569.0, 570.0, 571.0, 572.0, 573.0, 574.0, 575.0, 576.0, 577.0, 578.0, 579.0, 580.0, 581.0, 582.0, 583.0, 584.0, 585.0, 586.0, 587.0, 588.0, 589.0, 590.0, 591.0, 592.0, 593.0, 594.0, 595.0, 596.0, 597.0, 598.0, 599.0, 600.0, 601.0, 602.0, 603.0, 604.0, 605.0, 606.0, 607.0, 608.0, 609.0, 610.0, 611.0, 612.0, 613.0, 614.0, 615.0, 616.0, 617.0, 618.0, 619.0, 620.0, 621.0, 622.0, 623.0, 624.0, 625.0, 626.0, 627.0, 628.0, 629.0, 630.0, 631.0, 632.0, 633.0, 634.0, 635.0, 636.0, 637.0, 638.0, 639.0, 640.0, 641.0, 642.0, 643.0, 644.0, 645.0, 646.0, 647.0, 648.0, 649.0, 650.0, 651.0, 652.0, 653.0, 654.0, 655.0, 656.0, 657.0, 658.0, 659.0, 660.0, 661.0, 662.0, 663.0, 664.0, 665.0, 666.0, 667.0, 668.0, 669.0, 670.0, 671.0, 672.0, 673.0, 674.0, 675.0, 676.0, 677.0, 678.0, 679.0, 680.0, 681.0, 682.0, 683.0, 684.0, 685.0, 686.0, 687.0, 688.0, 689.0, 690.0, 691.0, 692.0, 693.0, 694.0, 695.0, 696.0, 697.0, 698.0, 699.0, 700.0, 701.0, 702.0, 703.0, 704.0, 705.0, 706.0, 707.0, 708.0, 709.0, 710.0, 711.0, 712.0, 713.0, 714.0, 715.0, 716.0, 717.0, 718.0, 719.0, 720.0, 721.0, 722.0, 723.0, 724.0, 725.0, 726.0, 727.0, 728.0, 729.0, 730.0, 731.0, 732.0, 733.0, 734.0, 735.0, 736.0, 737.0, 738.0, 739.0, 740.0, 741.0, 742.0, 743.0, 744.0, 745.0, 746.0, 747.0, 748.0, 749.0, 750.0, 751.0, 752.0, 753.0, 754.0, 755.0, 756.0, 757.0, 758.0, 759.0, 760.0, 761.0, 762.0, 763.0, 764.0, 765.0, 766.0, 767.0, 768.0, 769.0, 770.0, 771.0, 772.0, 773.0, 774.0, 775.0, 776.0, 777.0, 778.0, 779.0, 780.0, 781.0, 782.0, 783.0, 784.0, 785.0, 786.0, 787.0, 788.0, 789.0, 790.0, 791.0, 792.0, 793.0, 794.0, 795.0, 796.0, 797.0, 798.0, 799.0, 800.0, 801.0, 802.0, 803.0, 804.0, 805.0, 806.0, 807.0, 808.0, 809.0, 810.0, 811.0, 812.0, 813.0, 814.0, 815.0, 816.0, 817.0, 818.0, 819.0, 820.0, 821.0, 822.0, 823.0, 824.0, 825.0, 826.0, 827.0, 828.0, 829.0, 830.0, 831.0, 832.0, 833.0, 834.0, 835.0, 836.0, 837.0, 838.0, 839.0, 840.0, 841.0, 842.0, 843.0, 844.0, 845.0, 846.0, 847.0, 848.0, 849.0, 850.0, 851.0, 852.0, 853.0, 854.0, 855.0, 856.0, 857.0, 858.0, 859.0, 860.0, 861.0, 862.0, 863.0, 864.0, 865.0, 866.0, 867.0, 868.0, 869.0, 870.0, 871.0, 872.0, 873.0, 874.0, 875.0, 876.0, 877.0, 878.0, 879.0, 880.0, 881.0, 882.0, 883.0, 884.0, 885.0, 886.0, 887.0, 888.0, 889.0, 890.0, 891.0, 892.0, 893.0, 894.0, 895.0, 896.0, 897.0, 898.0, 899.0, 900.0, 901.0, 902.0, 903.0, 904.0, 905.0, 906.0, 907.0, 908.0, 909.0, 910.0, 911.0, 912.0, 913.0, 914.0, 915.0, 916.0, 917.0, 918.0, 919.0, 920.0, 921.0, 922.0, 923.0, 924.0, 925.0, 926.0, 927.0, 928.0, 929.0, 930.0, 931.0, 932.0, 933.0, 934.0, 935.0, 936.0, 937.0, 938.0, 939.0, 940.0, 941.0, 942.0, 943.0, 944.0, 945.0, 946.0, 947.0, 948.0, 949.0, 950.0, 951.0, 952.0, 953.0, 954.0, 955.0, 956.0, 957.0, 958.0, 959.0, 960.0, 961.0, 962.0, 963.0, 964.0, 965.0, 966.0, 967.0, 968.0, 969.0, 970.0, 971.0, 972.0, 973.0, 974.0, 975.0, 976.0, 977.0, 978.0, 979.0, 980.0, 981.0, 982.0, 983.0, 984.0, 985.0, 986.0, 987.0, 988.0, 989.0, 990.0, 991.0, 992.0, 993.0, 994.0, 995.0, 996.0, 997.0, 998.0, 999.0, 1000.0, 1001.0, 1002.0, 1003.0, 1004.0, 1005.0, 1006.0, 1007.0, 1008.0, 1009.0, 1010.0, 1011.0, 1012.0, 1013.0, 1014.0, 1015.0, 1016.0, 1017.0, 1018.0, 1019.0, 1020.0, 1021.0, 1022.0, 1023.0, 1024.0, 1025.0, 1026.0, 1027.0, 1028.0, 1029.0, 1030.0, 1031.0, 1032.0, 1033.0, 1034.0, 1035.0, 1036.0, 1037.0, 1038.0, 1039.0, 1040.0, 1041.0, 1042.0, 1043.0, 1044.0, 1045.0, 1046.0, 1047.0, 1048.0, 1049.0, 1050.0, 1051.0, 1052.0, 1053.0, 1054.0, 1055.0, 1056.0, 1057.0, 1058.0, 1059.0, 1060.0, 1061.0, 1062.0, 1063.0, 1064.0, 1065.0, 1066.0, 1067.0, 1068.0, 1069.0, 1070.0, 1071.0, 1072.0, 1073.0, 1074.0, 1075.0, 1076.0, 1077.0, 1078.0, 1079.0, 1080.0, 1081.0, 1082.0, 1083.0, 1084.0, 1085.0, 1086.0, 1087.0, 1088.0, 1089.0, 1090.0, 1091.0, 1092.0, 1093.0, 1094.0, 1095.0, 1096.0, 1097.0, 1098.0, 1099.0, 1100.0, 1101.0, 1102.0, 1103.0, 1104.0, 1105.0, 1106.0, 1107.0, 1108.0, 1109.0, 1110.0, 1111.0, 1112.0, 1113.0, 1114.0, 1115.0, 1116.0, 1117.0, 1118.0, 1119.0, 1120.0, 1121.0, 1122.0, 1123.0, 1124.0, 1125.0, 1126.0, 1127.0, 1128.0, 1129.0, 1130.0, 1131.0, 1132.0, 1133.0, 1134.0, 1135.0, 1136.0, 1137.0, 1138.0, 1139.0, 1140.0, 1141.0, 1142.0, 1143.0, 1144.0, 1145.0, 1146.0, 1147.0, 1148.0, 1149.0, 1150.0, 1151.0, 1152.0, 1153.0, 1154.0, 1155.0, 1156.0, 1157.0, 1158.0, 1159.0, 1160.0, 1161.0, 1162.0, 1163.0, 1164.0, 1165.0, 1166.0, 1167.0, 1168.0, 1169.0, 1170.0, 1171.0, 1172.0, 1173.0, 1174.0, 1175.0, 1176.0, 1177.0, 1178.0, 1179.0, 1180.0, 1181.0, 1182.0, 1183.0, 1184.0, 1185.0, 1186.0, 1187.0, 1188.0, 1189.0, 1190.0, 1191.0, 1192.0, 1193.0, 1194.0, 1195.0, 1196.0, 1197.0, 1198.0, 1199.0, 1200.0, 1201.0, 1202.0, 1203.0, 1204.0, 1205.0, 1206.0, 1207.0, 1208.0, 1209.0, 1210.0, 1211.0, 1212.0, 1213.0, 1214.0, 1215.0, 1216.0, 1217.0, 1218.0, 1219.0, 1220.0, 1221.0, 1222.0, 1223.0, 1224.0, 1225.0, 1226.0, 1227.0, 1228.0, 1229.0, 1230.0, 1231.0, 1232.0, 1233.0, 1234.0, 1235.0, 1236.0, 1237.0, 1238.0, 1239.0, 1240.0, 1241.0, 1242.0, 1243.0, 1244.0, 1245.0, 1246.0, 1247.0, 1248.0, 1249.0, 1250.0, 1251.0, 1252.0, 1253.0, 1254.0, 1255.0, 1256.0, 1257.0, 1258.0, 1259.0, 1260.0, 1261.0, 1262.0, 1263.0, 1264.0, 1265.0, 1266.0, 1267.0, 1268.0, 1269.0, 1270.0, 1271.0, 1272.0, 1273.0, 1274.0, 1275.0, 1276.0, 1277.0, 1278.0, 1279.0, 1280.0, 1281.0, 1282.0, 1283.0, 1284.0, 1285.0, 1286.0, 1287.0, 1288.0, 1289.0, 1290.0, 1291.0, 1292.0, 1293.0, 1294.0, 1295.0, 1296.0, 1297.0, 1298.0, 1299.0, 1300.0, 1301.0, 1302.0, 1303.0, 1304.0, 1305.0, 1306.0, 1307.0, 1308.0, 1309.0, 1310.0, 1311.0, 1312.0, 1313.0, 1314.0, 1315.0, 1316.0, 1317.0, 1318.0, 1319.0, 1320.0, 1321.0, 1322.0, 1323.0, 1324.0, 1325.0, 1326.0, 1327.0, 1328.0, 1329.0, 1330.0, 1331.0, 1332.0, 1333.0, 1334.0, 1335.0, 1336.0, 1337.0, 1338.0, 1339.0, 1340.0, 1341.0, 1342.0, 1343.0, 1344.0, 1345.0, 1346.0, 1347.0, 1348.0, 1349.0, 1350.0, 1351.0, 1352.0, 1353.0, 1354.0, 1355.0, 1356.0, 1357.0, 1358.0, 1359.0, 1360.0, 1361.0, 1362.0, 1363.0, 1364.0, 1365.0, 1366.0, 1367.0, 1368.0, 1369.0, 1370.0, 1371.0, 1372.0, 1373.0, 1374.0, 1375.0, 1376.0, 1377.0, 1378.0, 1379.0, 1380.0, 1381.0, 1382.0, 1383.0, 1384.0, 1385.0, 1386.0, 1387.0, 1388.0, 1389.0, 1390.0, 1391.0, 1392.0, 1393.0, 1394.0, 1395.0, 1396.0, 1397.0, 1398.0, 1399.0, 1400.0, 1401.0, 1402.0, 1403.0, 1404.0, 1405.0, 1406.0, 1407.0, 1408.0, 1409.0, 1410.0, 1411.0, 1412.0, 1413.0, 1414.0, 1415.0, 1416.0, 1417.0, 1418.0, 1419.0, 1420.0, 1421.0, 1422.0, 1423.0, 1424.0, 1425.0, 1426.0, 1427.0, 1428.0, 1429.0, 1430.0, 1431.0, 1432.0, 1433.0, 1434.0, 1435.0, 1436.0, 1437.0, 1438.0, 1439.0, 1440.0, 1441.0, 1442.0, 1443.0, 1444.0, 1445.0, 1446.0, 1447.0, 1448.0, 1449.0, 1450.0, 1451.0, 1452.0, 1453.0, 1454.0, 1455.0, 1456.0, 1457.0, 1458.0, 1459.0, 1460.0, 1461.0, 1462.0, 1463.0, 1464.0, 1465.0, 1466.0, 1467.0, 1468.0, 1469.0, 1470.0, 1471.0, 1472.0, 1473.0, 1474.0, 1475.0, 1476.0, 1477.0, 1478.0, 1479.0, 1480.0, 1481.0, 1482.0, 1483.0, 1484.0, 1485.0, 1486.0, 1487.0, 1488.0, 1489.0, 1490.0, 1491.0, 1492.0, 1493.0, 1494.0, 1495.0, 1496.0, 1497.0, 1498.0, 1499.0, 1500.0, 1501.0, 1502.0, 1503.0, 1504.0, 1505.0, 1506.0, 1507.0, 1508.0, 1509.0, 1510.0, 1511.0, 1512.0, 1513.0, 1514.0, 1515.0, 1516.0, 1517.0, 1518.0, 1519.0, 1520.0, 1521.0, 1522.0, 1523.0, 1524.0, 1525.0, 1526.0, 1527.0, 1528.0, 1529.0, 1530.0, 1531.0, 1532.0, 1533.0, 1534.0, 1535.0, 1536.0, 1537.0, 1538.0, 1539.0, 1540.0, 1541.0, 1542.0, 1543.0, 1544.0, 1545.0, 1546.0, 1547.0, 1548.0, 1549.0, 1550.0, 1551.0, 1552.0, 1553.0, 1554.0, 1555.0, 1556.0, 1557.0, 1558.0, 1559.0, 1560.0, 1561.0, 1562.0, 1563.0, 1564.0, 1565.0, 1566.0, 1567.0, 1568.0, 1569.0, 1570.0, 1571.0, 1572.0, 1573.0, 1574.0, 1575.0, 1576.0, 1577.0, 1578.0, 1579.0, 1580.0, 1581.0, 1582.0, 1583.0, 1584.0, 1585.0, 1586.0, 1587.0, 1588.0, 1589.0, 1590.0, 1591.0, 1592.0, 1593.0, 1594.0, 1595.0, 1596.0, 1597.0, 1598.0, 1599.0, 1600.0, 1601.0, 1602.0, 1603.0, 1604.0, 1605.0, 1606.0, 1607.0, 1608.0, 1609.0, 1610.0, 1611.0, 1612.0, 1613.0, 1614.0, 1615.0, 1616.0, 1617.0, 1618.0, 1619.0, 1620.0, 1621.0, 1622.0, 1623.0, 1624.0, 1625.0, 1626.0, 1627.0, 1628.0, 1629.0, 1630.0, 1631.0, 1632.0, 1633.0, 1634.0, 1635.0, 1636.0, 1637.0, 1638.0, 1639.0, 1640.0, 1641.0, 1642.0, 1643.0, 1644.0, 1645.0, 1646.0, 1647.0, 1648.0, 1649.0, 1650.0, 1651.0, 1652.0, 1653.0, 1654.0, 1655.0, 1656.0, 1657.0, 1658.0, 1659.0, 1660.0, 1661.0, 1662.0, 1663.0, 1664.0, 1665.0, 1666.0, 1667.0, 1668.0, 1669.0, 1670.0, 1671.0, 1672.0, 1673.0, 1674.0, 1675.0, 1676.0, 1677.0, 1678.0, 1679.0, 1680.0, 1681.0, 1682.0, 1683.0, 1684.0, 1685.0, 1686.0, 1687.0, 1688.0, 1689.0, 1690.0, 1691.0, 1692.0, 1693.0, 1694.0, 1695.0, 1696.0, 1697.0, 1698.0, 1699.0, 1700.0, 1701.0, 1702.0, 1703.0, 1704.0, 1705.0, 1706.0, 1707.0, 1708.0, 1709.0, 1710.0, 1711.0, 1712.0, 1713.0, 1714.0, 1715.0, 1716.0, 1717.0, 1718.0, 1719.0, 1720.0, 1721.0, 1722.0, 1723.0, 1724.0, 1725.0, 1726.0, 1727.0, 1728.0, 1729.0, 1730.0, 1731.0, 1732.0, 1733.0, 1734.0, 1735.0, 1736.0, 1737.0, 1738.0, 1739.0, 1740.0, 1741.0, 1742.0, 1743.0, 1744.0, 1745.0, 1746.0, 1747.0, 1748.0, 1749.0, 1750.0, 1751.0, 1752.0, 1753.0, 1754.0, 1755.0, 1756.0, 1757.0, 1758.0, 1759.0, 1760.0, 1761.0, 1762.0, 1763.0, 1764.0, 1765.0, 1766.0, 1767.0, 1768.0, 1769.0, 1770.0, 1771.0, 1772.0, 1773.0, 1774.0, 1775.0, 1776.0, 1777.0, 1778.0, 1779.0, 1780.0, 1781.0, 1782.0, 1783.0, 1784.0, 1785.0, 1786.0, 1787.0, 1788.0, 1789.0, 1790.0, 1791.0, 1792.0, 1793.0, 1794.0, 1795.0, 1796.0, 1797.0, 1798.0, 1799.0, 1800.0, 1801.0, 1802.0, 1803.0, 1804.0, 1805.0, 1806.0, 1807.0, 1808.0, 1809.0, 1810.0, 1811.0, 1812.0, 1813.0, 1814.0, 1815.0, 1816.0, 1817.0, 1818.0, 1819.0, 1820.0, 1821.0, 1822.0, 1823.0]\n"
     ]
    }
   ],
   "source": [
    "for k,i in enumerate(data['cars']):\n",
    "    if i['id']==278:\n",
    "        print(k)\n",
    "        print(i['frames'])"
   ]
  },
  {
   "cell_type": "code",
   "execution_count": 39,
   "metadata": {},
   "outputs": [
    {
     "name": "stdout",
     "output_type": "stream",
     "text": [
      "{u'frames': [0.0, 1.0, 2.0, 3.0, 4.0, 5.0, 6.0, 7.0, 8.0, 9.0, 10.0, 11.0, 12.0, 13.0, 14.0, 15.0, 16.0, 17.0, 18.0, 19.0, 20.0, 21.0, 22.0, 23.0, 24.0, 25.0, 26.0, 27.0, 28.0, 29.0, 30.0, 31.0, 32.0, 33.0, 34.0, 35.0, 36.0, 37.0, 38.0, 39.0, 40.0, 41.0, 42.0, 43.0, 44.0, 45.0, 46.0, 47.0, 48.0, 49.0, 50.0, 51.0, 52.0, 53.0, 54.0, 55.0, 56.0, 57.0, 58.0, 59.0, 60.0, 61.0, 62.0, 63.0, 64.0, 65.0, 66.0, 67.0, 68.0, 69.0, 70.0, 71.0, 72.0, 73.0, 74.0, 75.0, 76.0, 77.0, 78.0, 79.0, 80.0, 81.0, 82.0, 83.0, 84.0, 85.0, 86.0, 87.0, 88.0, 89.0, 90.0, 91.0, 92.0, 93.0, 94.0, 95.0, 96.0, 97.0, 98.0, 99.0, 100.0, 101.0, 102.0, 103.0, 104.0, 105.0, 106.0, 107.0, 108.0, 109.0, 110.0, 111.0, 112.0, 113.0, 114.0, 115.0, 116.0, 117.0, 118.0, 119.0, 120.0, 121.0, 122.0, 123.0, 124.0, 125.0, 126.0, 127.0, 128.0, 129.0, 130.0, 131.0, 132.0, 133.0, 134.0, 135.0, 136.0, 137.0, 138.0, 139.0, 140.0, 141.0, 142.0, 143.0, 144.0, 145.0, 146.0, 147.0, 148.0, 149.0, 150.0, 151.0, 152.0, 153.0, 154.0, 155.0, 156.0, 157.0, 158.0, 159.0, 160.0, 161.0, 162.0, 163.0, 164.0, 165.0, 166.0, 167.0, 168.0, 169.0, 170.0, 171.0, 172.0, 173.0, 174.0, 175.0, 176.0, 177.0, 178.0, 179.0, 180.0, 181.0, 182.0, 183.0, 184.0, 185.0, 186.0, 187.0, 188.0, 189.0, 190.0, 191.0, 192.0, 193.0, 194.0, 195.0, 196.0, 197.0, 198.0, 199.0, 200.0, 201.0, 202.0, 203.0, 204.0, 205.0, 206.0, 207.0, 208.0, 209.0, 210.0, 211.0, 212.0, 213.0, 214.0, 215.0, 216.0, 217.0, 218.0, 219.0, 220.0, 221.0, 222.0, 223.0, 224.0, 225.0, 226.0, 227.0, 228.0, 229.0, 230.0, 231.0, 232.0, 233.0, 234.0, 235.0, 236.0, 237.0, 238.0, 239.0, 240.0, 241.0, 242.0, 243.0, 244.0, 245.0, 246.0, 247.0, 248.0, 249.0, 250.0, 251.0, 252.0, 253.0, 254.0, 255.0, 256.0, 257.0, 258.0, 259.0, 260.0, 261.0, 262.0, 263.0, 264.0, 265.0, 266.0, 267.0, 268.0, 269.0, 270.0, 271.0, 272.0, 273.0, 274.0, 275.0, 276.0, 277.0, 278.0, 279.0, 280.0, 281.0, 282.0, 283.0, 284.0, 285.0, 286.0, 287.0, 288.0, 289.0, 290.0, 291.0, 292.0, 293.0, 294.0, 295.0, 296.0, 297.0, 298.0, 299.0, 300.0, 301.0, 302.0, 303.0, 304.0, 305.0, 306.0, 307.0, 308.0, 309.0, 310.0, 311.0, 312.0, 313.0, 314.0, 315.0, 316.0, 317.0, 318.0, 319.0, 320.0, 321.0, 322.0, 323.0, 324.0, 325.0, 326.0, 327.0, 328.0, 329.0, 330.0, 331.0, 332.0, 333.0, 334.0, 335.0, 336.0, 337.0, 338.0, 339.0, 340.0, 341.0, 342.0, 343.0, 344.0, 345.0, 346.0, 347.0, 348.0, 349.0, 350.0, 351.0, 352.0, 353.0, 354.0, 355.0, 356.0, 357.0, 358.0, 359.0, 360.0, 361.0, 362.0, 363.0, 364.0, 365.0, 366.0, 367.0, 368.0, 369.0, 370.0, 371.0, 372.0, 373.0, 374.0, 375.0, 376.0, 377.0, 378.0, 379.0, 380.0, 381.0, 382.0, 383.0, 384.0, 385.0, 386.0, 387.0, 388.0, 389.0, 390.0, 391.0, 392.0, 393.0, 394.0, 395.0, 396.0, 397.0, 398.0, 399.0, 400.0, 401.0, 402.0, 403.0, 404.0, 405.0, 406.0, 407.0, 408.0, 409.0, 410.0, 411.0, 412.0, 413.0, 414.0, 415.0, 416.0, 417.0, 418.0, 419.0, 420.0, 421.0, 422.0, 423.0, 424.0, 425.0, 426.0, 427.0, 428.0, 429.0, 430.0, 431.0, 432.0, 433.0, 434.0, 435.0, 436.0, 437.0, 438.0, 439.0, 440.0, 441.0, 442.0, 443.0, 444.0, 445.0, 446.0, 447.0, 448.0, 449.0, 450.0, 451.0, 452.0, 453.0, 454.0, 455.0, 456.0, 457.0, 458.0, 459.0, 460.0, 461.0, 462.0, 463.0, 464.0, 465.0, 466.0, 467.0, 468.0, 469.0, 470.0, 471.0, 472.0, 473.0, 474.0, 475.0, 476.0, 477.0, 478.0, 479.0, 480.0, 481.0, 482.0, 483.0, 484.0, 485.0, 486.0, 487.0, 488.0, 489.0, 490.0, 491.0, 492.0, 493.0, 494.0, 495.0, 496.0, 497.0, 498.0, 499.0, 500.0, 501.0, 502.0, 503.0, 504.0, 505.0, 506.0, 507.0, 508.0, 509.0, 510.0, 511.0, 512.0, 513.0, 514.0, 515.0, 516.0, 517.0, 518.0, 519.0, 520.0, 521.0, 522.0, 523.0, 524.0, 525.0, 526.0, 527.0, 528.0, 529.0, 530.0, 531.0, 532.0, 533.0, 534.0, 535.0, 536.0, 537.0, 538.0, 539.0, 540.0, 541.0, 542.0, 543.0, 544.0, 545.0, 546.0, 547.0, 548.0, 549.0, 550.0, 551.0, 552.0, 553.0, 554.0, 555.0, 556.0, 557.0, 558.0, 559.0, 560.0, 561.0, 562.0, 563.0, 564.0, 565.0, 566.0, 567.0, 568.0, 569.0, 570.0, 571.0, 572.0, 573.0, 574.0, 575.0, 576.0, 577.0, 578.0, 579.0, 580.0, 581.0, 582.0, 583.0, 584.0, 585.0, 586.0, 587.0, 588.0, 589.0, 590.0, 591.0, 592.0, 593.0, 594.0, 595.0, 596.0, 597.0, 598.0, 599.0, 600.0, 601.0, 602.0, 603.0, 604.0, 605.0, 606.0, 607.0, 608.0, 609.0, 610.0, 611.0, 612.0, 613.0, 614.0, 615.0, 616.0, 617.0, 618.0, 619.0, 620.0, 621.0, 622.0, 623.0, 624.0, 625.0, 626.0, 627.0, 628.0, 629.0, 630.0, 631.0, 632.0, 633.0, 634.0, 635.0, 636.0, 637.0, 638.0, 639.0, 640.0, 641.0, 642.0, 643.0, 644.0, 645.0, 646.0, 647.0, 648.0, 649.0, 650.0, 651.0, 652.0, 653.0, 654.0, 655.0, 656.0, 657.0, 658.0, 659.0, 660.0, 661.0, 662.0, 663.0, 664.0, 665.0, 666.0, 667.0, 668.0, 669.0, 670.0, 671.0, 672.0, 673.0, 674.0, 675.0, 676.0, 677.0, 678.0, 679.0, 680.0, 681.0, 682.0, 683.0, 684.0, 685.0, 686.0, 687.0, 688.0, 689.0, 690.0, 691.0, 692.0, 693.0, 694.0, 695.0, 696.0, 697.0, 698.0, 699.0, 700.0, 701.0, 702.0, 703.0, 704.0, 705.0, 706.0, 707.0, 708.0, 709.0, 710.0, 711.0, 712.0, 713.0, 714.0, 715.0, 716.0, 717.0, 718.0, 719.0, 720.0, 721.0, 722.0, 723.0, 724.0, 725.0, 726.0, 727.0, 728.0, 729.0, 730.0, 731.0, 732.0, 733.0, 734.0, 735.0, 736.0, 737.0, 738.0, 739.0, 740.0, 741.0, 742.0, 743.0, 744.0, 745.0, 746.0, 747.0, 748.0, 749.0, 750.0, 751.0, 752.0, 753.0, 754.0, 755.0, 756.0, 757.0, 758.0, 759.0, 760.0, 761.0, 762.0, 763.0, 764.0, 765.0, 766.0, 767.0, 768.0, 769.0, 770.0, 771.0, 772.0, 773.0, 774.0, 775.0, 776.0, 777.0, 778.0, 779.0, 780.0, 781.0, 782.0, 783.0, 784.0, 785.0, 786.0, 787.0, 788.0, 789.0, 790.0, 791.0, 792.0, 793.0, 794.0, 795.0, 796.0, 797.0, 798.0, 799.0, 800.0, 801.0, 802.0, 803.0, 804.0, 805.0, 806.0, 807.0, 808.0, 809.0, 810.0, 811.0, 812.0, 813.0, 814.0, 815.0, 816.0, 817.0, 818.0, 819.0, 820.0, 821.0, 822.0, 823.0, 824.0, 825.0, 826.0, 827.0, 828.0, 829.0, 830.0, 831.0, 832.0, 833.0, 834.0, 835.0, 836.0, 837.0, 838.0, 839.0, 840.0, 841.0, 842.0, 843.0, 844.0, 845.0, 846.0, 847.0, 848.0, 849.0, 850.0, 851.0, 852.0, 853.0, 854.0, 855.0, 856.0, 857.0, 858.0, 859.0, 860.0, 861.0, 862.0, 863.0, 864.0, 865.0, 866.0, 867.0, 868.0, 869.0, 870.0, 871.0, 872.0, 873.0, 874.0, 875.0, 876.0, 877.0, 878.0, 879.0, 880.0, 881.0, 882.0, 883.0, 884.0, 885.0, 886.0, 887.0, 888.0, 889.0, 890.0, 891.0, 892.0, 893.0, 894.0, 895.0, 896.0, 897.0, 898.0, 899.0, 900.0, 901.0, 902.0, 903.0, 904.0, 905.0, 906.0, 907.0, 908.0, 909.0, 910.0, 911.0, 912.0, 913.0, 914.0, 915.0, 916.0, 917.0, 918.0, 919.0, 920.0, 921.0, 922.0, 923.0, 924.0, 925.0, 926.0, 927.0, 928.0, 929.0, 930.0, 931.0, 932.0, 933.0, 934.0, 935.0, 936.0, 937.0, 938.0, 939.0, 940.0, 941.0, 942.0, 943.0, 944.0, 945.0, 946.0, 947.0, 948.0, 949.0, 950.0, 951.0, 952.0, 953.0, 954.0, 955.0, 956.0, 957.0, 958.0, 959.0, 960.0, 961.0, 962.0, 963.0, 964.0, 965.0, 966.0, 967.0, 968.0, 969.0, 970.0, 971.0, 972.0, 973.0, 974.0, 975.0, 976.0, 977.0, 978.0, 979.0, 980.0, 981.0, 982.0, 983.0, 984.0, 985.0, 986.0, 987.0, 988.0, 989.0, 990.0, 991.0, 992.0, 993.0, 994.0, 995.0, 996.0, 997.0, 998.0, 999.0, 1000.0, 1001.0, 1002.0, 1003.0, 1004.0, 1005.0, 1006.0, 1007.0, 1008.0, 1009.0, 1010.0, 1011.0, 1012.0, 1013.0, 1014.0, 1015.0, 1016.0, 1017.0, 1018.0, 1019.0, 1020.0, 1021.0, 1022.0, 1023.0, 1024.0, 1025.0, 1026.0, 1027.0, 1028.0, 1029.0, 1030.0, 1031.0, 1032.0, 1033.0, 1034.0, 1035.0, 1036.0, 1037.0, 1038.0, 1039.0, 1040.0, 1041.0, 1042.0, 1043.0, 1044.0, 1045.0, 1046.0, 1047.0, 1048.0, 1049.0, 1050.0, 1051.0, 1052.0, 1053.0, 1054.0, 1055.0, 1056.0, 1057.0, 1058.0, 1059.0, 1060.0, 1061.0, 1062.0, 1063.0, 1064.0, 1065.0, 1066.0, 1067.0, 1068.0, 1069.0, 1070.0, 1071.0, 1072.0, 1073.0, 1074.0, 1075.0, 1076.0, 1077.0, 1078.0, 1079.0, 1080.0, 1081.0, 1082.0, 1083.0, 1084.0, 1085.0, 1086.0, 1087.0, 1088.0, 1089.0, 1090.0, 1091.0, 1092.0, 1093.0, 1094.0, 1095.0, 1096.0, 1097.0, 1098.0, 1099.0, 1100.0, 1101.0, 1102.0, 1103.0, 1104.0, 1105.0, 1106.0, 1107.0, 1108.0, 1109.0, 1110.0, 1111.0, 1112.0, 1113.0, 1114.0, 1115.0, 1116.0, 1117.0, 1118.0, 1119.0, 1120.0, 1121.0, 1122.0, 1123.0, 1124.0, 1125.0, 1126.0, 1127.0, 1128.0, 1129.0, 1130.0, 1131.0, 1132.0, 1133.0, 1134.0, 1135.0, 1136.0, 1137.0, 1138.0, 1139.0, 1140.0, 1141.0, 1142.0, 1143.0, 1144.0, 1145.0, 1146.0, 1147.0, 1148.0, 1149.0, 1150.0, 1151.0, 1152.0, 1153.0, 1154.0, 1155.0, 1156.0, 1157.0, 1158.0, 1159.0, 1160.0, 1161.0, 1162.0, 1163.0, 1164.0, 1165.0, 1166.0, 1167.0, 1168.0, 1169.0, 1170.0, 1171.0, 1172.0, 1173.0, 1174.0, 1175.0, 1176.0, 1177.0, 1178.0, 1179.0, 1180.0, 1181.0, 1182.0, 1183.0, 1184.0, 1185.0, 1186.0, 1187.0, 1188.0, 1189.0, 1190.0, 1191.0, 1192.0, 1193.0, 1194.0, 1195.0, 1196.0, 1197.0, 1198.0, 1199.0, 1200.0, 1201.0, 1202.0, 1203.0, 1204.0, 1205.0, 1206.0, 1207.0, 1208.0, 1209.0, 1210.0, 1211.0, 1212.0, 1213.0, 1214.0, 1215.0, 1216.0, 1217.0, 1218.0, 1219.0, 1220.0, 1221.0, 1222.0, 1223.0, 1224.0, 1225.0, 1226.0, 1227.0, 1228.0, 1229.0, 1230.0, 1231.0, 1232.0, 1233.0, 1234.0, 1235.0, 1236.0, 1237.0, 1238.0, 1239.0, 1240.0, 1241.0, 1242.0, 1243.0, 1244.0, 1245.0, 1246.0, 1247.0, 1248.0, 1249.0, 1250.0, 1251.0, 1252.0, 1253.0, 1254.0, 1255.0, 1256.0, 1257.0, 1258.0, 1259.0, 1260.0, 1261.0, 1262.0, 1263.0, 1264.0, 1265.0, 1266.0, 1267.0, 1268.0, 1269.0, 1270.0, 1271.0, 1272.0, 1273.0, 1274.0, 1275.0, 1276.0, 1277.0, 1278.0, 1279.0, 1280.0, 1281.0, 1282.0, 1283.0, 1284.0, 1285.0, 1286.0, 1287.0, 1288.0, 1289.0, 1290.0, 1291.0, 1292.0, 1293.0, 1294.0, 1295.0, 1296.0, 1297.0, 1298.0, 1299.0, 1300.0, 1301.0, 1302.0, 1303.0, 1304.0, 1305.0, 1306.0, 1307.0, 1308.0, 1309.0, 1310.0, 1311.0, 1312.0, 1313.0, 1314.0, 1315.0, 1316.0, 1317.0, 1318.0, 1319.0, 1320.0, 1321.0, 1322.0, 1323.0, 1324.0, 1325.0, 1326.0, 1327.0, 1328.0, 1329.0, 1330.0, 1331.0, 1332.0, 1333.0, 1334.0, 1335.0, 1336.0, 1337.0, 1338.0, 1339.0, 1340.0, 1341.0, 1342.0, 1343.0, 1344.0, 1345.0, 1346.0, 1347.0, 1348.0, 1349.0, 1350.0, 1351.0, 1352.0, 1353.0, 1354.0, 1355.0, 1356.0, 1357.0, 1358.0, 1359.0, 1360.0, 1361.0, 1362.0, 1363.0, 1364.0, 1365.0, 1366.0, 1367.0, 1368.0, 1369.0, 1370.0, 1371.0, 1372.0, 1373.0, 1374.0, 1375.0, 1376.0, 1377.0, 1378.0, 1379.0, 1380.0, 1381.0, 1382.0, 1383.0, 1384.0, 1385.0, 1386.0, 1387.0, 1388.0, 1389.0, 1390.0, 1391.0, 1392.0, 1393.0, 1394.0, 1395.0, 1396.0, 1397.0, 1398.0, 1399.0, 1400.0, 1401.0, 1402.0, 1403.0, 1404.0, 1405.0, 1406.0, 1407.0, 1408.0, 1409.0, 1410.0, 1411.0, 1412.0, 1413.0, 1414.0, 1415.0, 1416.0, 1417.0, 1418.0, 1419.0, 1420.0, 1421.0, 1422.0, 1423.0, 1424.0, 1425.0, 1426.0, 1427.0, 1428.0, 1429.0, 1430.0, 1431.0, 1432.0, 1433.0, 1434.0, 1435.0, 1436.0, 1437.0, 1438.0, 1439.0, 1440.0, 1441.0, 1442.0, 1443.0, 1444.0, 1445.0, 1446.0, 1447.0, 1448.0, 1449.0, 1450.0, 1451.0, 1452.0, 1453.0, 1454.0, 1455.0, 1456.0, 1457.0, 1458.0, 1459.0, 1460.0, 1461.0, 1462.0, 1463.0, 1464.0, 1465.0, 1466.0, 1467.0, 1468.0, 1469.0, 1470.0, 1471.0, 1472.0, 1473.0, 1474.0, 1475.0, 1476.0, 1477.0, 1478.0, 1479.0, 1480.0, 1481.0, 1482.0, 1483.0, 1484.0, 1485.0, 1486.0, 1487.0, 1488.0, 1489.0, 1490.0, 1491.0, 1492.0, 1493.0, 1494.0, 1495.0, 1496.0, 1497.0, 1498.0, 1499.0, 1500.0, 1501.0, 1502.0, 1503.0, 1504.0, 1505.0, 1506.0, 1507.0, 1508.0, 1509.0, 1510.0, 1511.0, 1512.0, 1513.0, 1514.0, 1515.0, 1516.0, 1517.0, 1518.0, 1519.0, 1520.0, 1521.0, 1522.0, 1523.0, 1524.0, 1525.0, 1526.0, 1527.0, 1528.0, 1529.0, 1530.0, 1531.0, 1532.0, 1533.0, 1534.0, 1535.0, 1536.0, 1537.0, 1538.0, 1539.0, 1540.0, 1541.0, 1542.0, 1543.0, 1544.0, 1545.0, 1546.0, 1547.0, 1548.0, 1549.0, 1550.0, 1551.0, 1552.0, 1553.0, 1554.0, 1555.0, 1556.0, 1557.0, 1558.0, 1559.0, 1560.0, 1561.0, 1562.0, 1563.0, 1564.0, 1565.0, 1566.0, 1567.0, 1568.0, 1569.0, 1570.0, 1571.0, 1572.0, 1573.0, 1574.0, 1575.0, 1576.0, 1577.0, 1578.0, 1579.0, 1580.0, 1581.0, 1582.0, 1583.0, 1584.0, 1585.0, 1586.0, 1587.0, 1588.0, 1589.0, 1590.0, 1591.0, 1592.0, 1593.0, 1594.0, 1595.0, 1596.0, 1597.0, 1598.0, 1599.0, 1600.0, 1601.0, 1602.0, 1603.0, 1604.0, 1605.0, 1606.0, 1607.0, 1608.0, 1609.0, 1610.0, 1611.0, 1612.0, 1613.0, 1614.0, 1615.0, 1616.0, 1617.0, 1618.0, 1619.0, 1620.0, 1621.0, 1622.0, 1623.0, 1624.0, 1625.0, 1626.0, 1627.0, 1628.0, 1629.0, 1630.0, 1631.0, 1632.0, 1633.0, 1634.0, 1635.0, 1636.0, 1637.0, 1638.0, 1639.0, 1640.0, 1641.0, 1642.0, 1643.0, 1644.0, 1645.0, 1646.0, 1647.0, 1648.0, 1649.0, 1650.0, 1651.0, 1652.0, 1653.0, 1654.0, 1655.0, 1656.0, 1657.0, 1658.0, 1659.0, 1660.0, 1661.0, 1662.0, 1663.0, 1664.0, 1665.0, 1666.0, 1667.0, 1668.0, 1669.0, 1670.0, 1671.0, 1672.0, 1673.0, 1674.0, 1675.0, 1676.0, 1677.0, 1678.0, 1679.0, 1680.0, 1681.0, 1682.0, 1683.0, 1684.0, 1685.0, 1686.0, 1687.0, 1688.0, 1689.0, 1690.0, 1691.0, 1692.0, 1693.0, 1694.0, 1695.0, 1696.0, 1697.0, 1698.0, 1699.0, 1700.0, 1701.0, 1702.0, 1703.0, 1704.0, 1705.0, 1706.0, 1707.0, 1708.0, 1709.0, 1710.0, 1711.0, 1712.0, 1713.0, 1714.0, 1715.0, 1716.0, 1717.0, 1718.0, 1719.0, 1720.0, 1721.0, 1722.0, 1723.0, 1724.0, 1725.0, 1726.0, 1727.0, 1728.0, 1729.0, 1730.0, 1731.0, 1732.0, 1733.0, 1734.0, 1735.0, 1736.0, 1737.0, 1738.0, 1739.0, 1740.0, 1741.0, 1742.0, 1743.0, 1744.0, 1745.0, 1746.0, 1747.0, 1748.0, 1749.0, 1750.0, 1751.0, 1752.0, 1753.0, 1754.0, 1755.0, 1756.0, 1757.0, 1758.0, 1759.0, 1760.0, 1761.0, 1762.0, 1763.0, 1764.0, 1765.0, 1766.0, 1767.0, 1768.0, 1769.0, 1770.0, 1771.0, 1772.0, 1773.0, 1774.0, 1775.0, 1776.0, 1777.0, 1778.0, 1779.0, 1780.0, 1781.0, 1782.0, 1783.0, 1784.0, 1785.0, 1786.0, 1787.0, 1788.0, 1789.0, 1790.0, 1791.0, 1792.0, 1793.0, 1794.0, 1795.0, 1796.0, 1797.0, 1798.0, 1799.0, 1800.0, 1801.0, 1802.0, 1803.0, 1804.0, 1805.0, 1806.0, 1807.0, 1808.0, 1809.0, 1810.0, 1811.0, 1812.0, 1813.0, 1814.0, 1815.0, 1816.0, 1817.0, 1818.0, 1819.0, 1820.0, 1821.0, 1822.0, 1823.0], u'id': 278, u'posX': [365.0884327521691, 365.2732143689618, 365.26247889482534, 365.21214180084695, 365.17136355107164, 365.16279624374585, 365.15571970973053, 365.1512791053088, 365.1521827825262, 365.12971467757933, 365.04870708568365, 365.0157615090727, 365.05827258639295, 365.09136596408194, 365.1452696272496, 365.1673225932156, 365.1628103721957, 365.1989742067524, 365.2009878417555, 365.1994894045988, 365.17520128459427, 365.1429263439302, 365.1373734151807, 365.14256262221215, 365.2909346263496, 365.414653247429, 365.5349477717619, 365.56337099588103, 365.591176168904, 365.5704929834479, 365.57297253118185, 365.54790478004537, 365.54306251776825, 365.53302042921973, 365.49670836444966, 365.48764205094255, 365.0920581847436, 364.9038986541332, 364.82889761509153, 364.82766313697704, 364.8226981891455, 364.7766433484673, 364.7719787431017, 364.800222426288, 364.8209133580528, 364.77312672812246, 364.7401538165478, 364.77288636256566, 364.87599290759255, 364.8523011440222, 364.80689377723473, 364.83169656743934, 364.87140509580996, 364.8644265844793, 364.84107527099013, 364.804066650979, 364.84437554484145, 364.859734326004, 364.8812162468561, 364.89688900753134, 365.1319068767246, 365.2497388650597, 365.28077560848925, 365.33122370841824, 365.38595251983196, 365.3961856692701, 365.3785061368434, 365.40698118069326, 365.45191866482617, 365.4614085228311, 365.44387642010633, 365.44797260328517, 364.9086004812847, 364.76677388836964, 364.74156835825295, 364.76107381053976, 364.7477252551984, 364.7426394646466, 364.74059206093705, 364.73319251858504, 364.74201281300026, 364.7587848007705, 364.7449597331645, 364.70940735658274, 366.2086898451122, 366.75043715815514, 366.96536060616717, 367.01834477486165, 367.0234237957387, 367.01257269076797, 367.0001433335496, 366.9618260761275, 366.9411332127313, 366.85687802998075, 366.8489664943047, 366.8434519147438, 366.549204927237, 366.28462667853535, 366.1736403163577, 366.12948859312235, 366.1271372190993, 366.0942476674064, 366.06205620146693, 365.9728352105607, 365.96330219336033, 366.01053053559974, 366.1260568141537, 366.12743178498056, 366.47497166630296, 366.56092561930643, 366.64169499576576, 366.6497704018077, 366.6720776650255, 366.60818208130075, 366.6003314899475, 366.617965247382, 366.6469581556667, 366.6477347096772, 366.5966234188687, 366.6427202012322, 367.06582593963145, 367.2251306909013, 367.30607936099784, 367.3205351880811, 367.29701938060515, 367.24170345434527, 367.2260429484168, 367.1870064521535, 367.1991352617496, 367.17239172927356, 367.1875008836529, 367.25125919347624, 366.3093066510387, 366.03920676054753, 365.95569423128205, 365.9473298475674, 365.9649312702485, 365.973983104008, 365.9773707026711, 366.00592192714197, 365.9914314848386, 365.9978179166134, 365.9677501136077, 365.97154769724096, 366.3831956382537, 366.55521011588513, 366.58838255227505, 366.5704923218143, 366.51443167863226, 366.5376178100423, 366.5403362029221, 366.54886608894947, 366.56846379656736, 366.57941585992086, 366.5903987914062, 366.63250930202526, 366.8211740585476, 366.9010610890076, 366.89948091517886, 366.8268070858684, 366.76368288055806, 366.7245781246755, 366.6034847989171, 366.5207057223553, 366.5228850086269, 366.51878939612715, 366.51921965328677, 366.5438288181607, 365.3049154736597, 364.86421395957353, 364.70367773435305, 364.6991377811255, 364.65521005957015, 364.60976715276763, 364.6298984757296, 364.5262584060528, 364.42891317998664, 364.39998200422525, 364.3755251302459, 364.41044352600636, 365.11479227677194, 365.3743907239882, 365.48160460495905, 365.5017659496329, 365.4463425103794, 365.44460211382403, 365.48738510180306, 365.47632927379647, 365.5140251347703, 365.5109829587592, 365.5538968021186, 365.55321272017864, 365.2285374858312, 365.0187188232914, 364.9975889112965, 364.96070681292616, 364.99200654775996, 364.9625460621814, 365.0006284354313, 365.0086849463559, 365.1094626396846, 365.20905672872254, 365.2690211779764, 365.2819447818732, 365.0847805871895, 365.10928165171237, 365.19473773344737, 365.2261626416022, 365.2438870124608, 365.26625553566805, 365.24757677933417, 365.2958611869093, 365.3148358341361, 365.33640387946446, 365.3068264984688, 365.2832915710192, 365.24643468049123, 365.2157782932034, 365.1740740561784, 365.11293188124927, 365.0854875734749, 365.06173278356704, 365.0496636680439, 365.0424354665125, 365.0640916513578, 365.0884973235243, 365.0761381422023, 365.04552462946054, 364.84612562065547, 364.57415406172026, 364.4395964596708, 364.3813048119736, 364.3672097879884, 364.3567202477363, 364.37471948355414, 364.35011102999175, 364.3146776678159, 364.2994706465155, 364.30440635351806, 364.31342458403776, 365.3174771489408, 365.77016392121885, 365.9189902456858, 366.0146186223995, 366.09082400536676, 366.116897085523, 366.13533480298236, 366.1735958587858, 366.12433764789273, 366.11212577412846, 366.06623921771615, 366.11693276754676, 365.13335594837656, 364.77362113133654, 364.63879966754365, 364.5794171427187, 364.54599853300203, 364.47831232300763, 364.4730011324988, 364.4486002157806, 364.50979256991985, 364.52225228978506, 364.55669718715046, 364.55343490885616, 364.7669236471824, 364.86293119630113, 364.8925819928997, 364.9160302016679, 364.8872291239176, 364.8348849522445, 364.8621822850219, 364.8968145902079, 364.8770366931986, 364.86457200543487, 364.8838601684742, 364.89259420661864, 366.1112955212669, 366.55921885414296, 366.77753694555827, 366.8063529396088, 366.80217391974367, 366.81532489243216, 366.8505002068726, 366.8523539513657, 366.8337810020008, 366.8391034279056, 366.85679602459624, 366.8469245697996, 365.81947276727726, 365.4819423455932, 365.34737873111396, 365.2834055006789, 365.2311023418575, 365.2321225509545, 365.24331261972384, 365.24049069956817, 365.2666182022708, 365.2770892982376, 365.28371031649215, 365.27792882521436, 365.330002174804, 365.421225010484, 365.44454297137264, 365.50626343987574, 365.50079427362147, 365.5029758323427, 365.5697325464643, 365.5374155965345, 365.4783679619871, 365.4230440114067, 365.4568500974772, 365.466466834702, 365.13291094180653, 364.91450446916735, 364.8256371791045, 364.7656253585546, 364.73629101680837, 364.725699640548, 364.72271642716913, 364.7177083427835, 364.7052222864984, 364.74043691959236, 364.7354430001589, 364.7536163720447, 364.5672958570216, 364.59131692137026, 364.59583611706626, 364.6203330495931, 364.6066116112361, 364.6076415767193, 364.6112253371236, 364.60604222512745, 364.6344856416962, 364.68958458072626, 364.67562479733994, 364.6400952013346, 365.31203432501326, 365.6049019783632, 365.555415988243, 365.5312676862894, 365.5256379033467, 365.5387347214313, 365.4614295920191, 365.4921100668815, 365.5174044884634, 365.5513606474271, 365.5669414303393, 365.6314665054624, 365.93314807932586, 366.1456415130792, 366.2013447288937, 366.1777521055724, 366.1964988344828, 366.18843658143084, 366.18849442959043, 366.18865668740654, 366.1966115563021, 366.2340076863957, 366.249507063796, 366.2590066709519, 366.2589076726106, 366.30013654529563, 366.2508131837518, 366.2624153363492, 366.2475056921886, 366.2381898862441, 366.2845164348654, 366.28006860187486, 366.25234116064354, 366.25474215194225, 366.21537905226904, 366.1904934752153, 365.85690970663194, 365.808907486087, 365.7747552223485, 365.6856821782842, 365.6490411044565, 365.644980894273, 365.602595523698, 365.6718774421763, 365.7147746140618, 365.7149272617528, 365.75855938402924, 365.8026974877003, 367.74645328303416, 368.3582535742464, 368.61346323422276, 368.66393061656163, 368.7963331006793, 368.88972262761945, 369.00188492243655, 369.0069190922309, 369.01060939118497, 368.9419943488116, 368.83369386094233, 368.8173306837027, 365.370213362583, 364.2146197933267, 363.72831029435844, 363.6067256576292, 363.6215567874271, 363.65889584453924, 363.65702605929187, 363.6685746979197, 363.6979676536827, 363.7590876720626, 363.8014472060557, 363.76459905712204, 364.782732664077, 365.03782229744803, 365.1716849273254, 365.3223377817801, 365.4990136755234, 365.60087796242647, 365.50909734234904, 365.4422198205771, 365.5538126116959, 365.4598803424084, 365.50905264412086, 365.49744271733084, 365.5417462855377, 365.4510641454876, 365.2765673673901, 365.3428405188456, 365.32252787106256, 365.3604198457659, 365.45679783763643, 365.3362632380323, 365.3250519886648, 365.4418504162511, 365.41788241506987, 365.337585930857, 364.6003286457006, 364.4735184114477, 364.34938309908114, 364.31757978613336, 364.2798514007162, 364.28721589837915, 364.2174590370024, 364.27256191879746, 364.2748855981047, 364.2922640751062, 364.4150918956244, 364.48443584314515, 365.9943924070256, 366.75086287060634, 366.92786748747324, 366.9723323677852, 366.8966943750769, 366.8939057272191, 366.8774588111887, 366.8846647183, 366.8093137540203, 366.85800749826785, 366.86556391164453, 366.86973485352837, 365.77651143208715, 365.2884017041929, 364.9873872429594, 364.86392955116554, 364.8691805727496, 364.92613199925717, 364.8222621795953, 364.79370546042145, 364.8683578761256, 364.9420914469685, 364.96075301626036, 365.01384929645445, 364.8244204024572, 364.6227755990056, 364.58115512843403, 364.61774098127216, 364.6497542365081, 364.67132762715954, 364.7447588440395, 364.72449705112086, 364.6645823397025, 364.6055280320099, 364.6100862775371, 364.70728361636174, 364.602573285693, 364.74333786464337, 364.86598457847214, 364.9168205660575, 364.877908398883, 364.70135648498297, 364.6191877855567, 364.64992720879064, 364.70263603656576, 364.6754350480316, 364.6729763559783, 364.89747683509245, 364.95357139048576, 364.9804426165801, 365.07646653526257, 365.0649513364441, 365.0878236436114, 365.1227240038682, 365.1464011183279, 365.2277749391927, 365.0994225329067, 365.0672125659066, 364.92970854633927, 364.9906675748527, 366.4146004414095, 366.8459951338063, 367.00201763578326, 367.04976051900354, 366.9989610492734, 366.9759598787165, 367.017541078355, 367.06471528136103, 367.2304224294685, 367.1048641147943, 367.13726667428296, 367.18599004755123, 368.02851570593515, 368.3303522103972, 368.4051298573731, 368.2996347384761, 368.29430711495695, 368.3940370096819, 368.56218432792843, 368.7564379750758, 368.7565528261053, 368.7374379416905, 368.62038336230233, 368.5862936311861, 367.5967812472483, 366.9315102343421, 366.6635561021796, 366.6099721363307, 366.6401814262296, 366.6422034815065, 366.78607418959905, 366.73839920532726, 366.68172522353973, 366.64226842710764, 366.541813051333, 366.45844814715394, 368.0165138041858, 368.6016916050077, 368.87713428486404, 369.0077430049734, 369.05711404265423, 369.0105780437442, 369.0530116018897, 369.157980054814, 369.20729335607626, 369.31661027115484, 369.26862522652993, 369.26137717157786, 367.6904029218415, 367.3794581086178, 367.4211535752328, 367.1241439005105, 366.9778845515338, 367.00963418728554, 367.1434549922261, 367.22856541961505, 367.281418982779, 367.2689165358618, 367.32040454789546, 367.24143441862276, 368.5943076750216, 369.01355029328664, 369.08927416099925, 369.17031289906157, 369.2198401458295, 369.18794244655044, 369.2552128844434, 369.31986831581327, 369.48271629352234, 369.54893764214364, 369.5753130278269, 369.55309319626343, 368.22353771120487, 367.7377851898287, 367.40040646221127, 367.2017700881489, 367.25322445645713, 367.37604090412486, 367.4607564890557, 367.2895546943349, 367.21930036483957, 367.3789955026162, 367.44951173233744, 367.3419799166211, 367.1023145918415, 366.82826045895644, 366.92396895086785, 366.878630555987, 366.89869626661897, 366.78890841945565, 366.83289949090926, 366.92218178218525, 366.8773728985306, 366.8517473087435, 366.811667477072, 366.9304786205968, 366.58159213201697, 366.5535371698312, 366.69170431014504, 366.7414702374544, 366.70146375689654, 366.65140006709504, 366.685126327279, 366.6902329808741, 366.64666108405555, 366.60563717549053, 366.6074065434801, 366.61167190274796, 367.1491677680926, 367.25271243512003, 367.30770658707144, 367.396052013811, 367.2986268975662, 367.2716487213175, 367.3529925778755, 367.4247470961183, 367.47481394537556, 367.5207285035029, 367.55752437365123, 367.58822738791486, 367.4531047425942, 367.1122543554305, 366.9794572603239, 367.0999872474745, 367.0566189407855, 367.04181124839624, 366.9489069849745, 373.71390280980404, 369.55642599559, 368.0010422608219, 374.00302661330073, 369.6441353868593, 368.4734686299567, 367.8258571564312, 367.57453239943527, 367.5199607846701, 367.6441532778402, 367.6537408966613, 367.62677607690813, 367.5921815172643, 367.5751445611362, 367.5541698658553, 367.51841588806377, 367.53679767831494, 367.92871750494606, 368.00769638841234, 367.95461974580144, 367.92829971660615, 367.9157119647736, 367.8353492341271, 367.8127082038627, 367.8067068988529, 367.91728430647566, 367.92762942339266, 367.9348661730989, 367.9520876429936, 367.0152783585419, 366.6983523712269, 366.58583056075145, 366.5488754942913, 366.4538445099254, 366.4317087803459, 366.42821427405534, 366.4171329256539, 366.4490889605781, 366.47683271087465, 366.44276937149704, 366.4341134287052, 365.4701093800578, 365.1594665267824, 365.05116765685665, 364.9778551013784, 364.9303561025847, 364.9008698665882, 364.8665765540338, 364.8722566016817, 364.85701857843947, 364.8399239312386, 364.83492811836663, 364.81358209791875, 364.25543676114063, 364.1499592587775, 364.1020278690119, 364.0891126818852, 364.1055637240663, 364.13788427772107, 364.05974247201414, 364.01867647443726, 364.04069379951636, 364.069148486038, 364.1078687217647, 364.1202076578807, 364.3029510808571, 364.4908870235197, 364.53190729080177, 364.52301820925277, 364.5398601819657, 364.5310346124844, 364.5275976327529, 364.49327617265135, 364.52052671979015, 364.5454541605445, 364.5696665960084, 364.58704858011595, 364.59123398967796, 364.7126280526278, 364.7323666745998, 364.74033374025424, 364.7748679731904, 364.785039050374, 364.78884702443673, 364.7662933909601, 364.76303050021414, 364.7554862250611, 364.6976044788894, 364.6986465722021, 366.19313853577535, 366.76162555977527, 366.98761510881405, 367.0709806102209, 367.0969087430959, 367.11240015434, 367.0716635982016, 367.0482898341655, 367.01183513048636, 367.04998876881245, 367.06578737885326, 367.06602553310137, 366.94245461528016, 366.82844949212443, 366.782376396624, 366.794305226291, 366.78358531066857, 366.77409607298745, 366.79470458193316, 366.8073764188691, 366.80979696980853, 366.8221281382876, 366.8450389972927, 366.8853577720646, 365.9301975782083, 365.69468965922346, 365.6330365405503, 365.6120081329213, 365.6002846746463, 365.63589481892103, 365.6302051334323, 365.6224256759657, 365.6244943596636, 365.59432153370113, 365.5800980337459, 365.59843349677124, 365.65011255088893, 365.6273072286182, 365.55410226805077, 365.5560564926337, 365.53444759260634, 365.5222282609993, 365.4610583420564, 365.4604720699662, 365.4561198495978, 365.44970535379264, 365.4780015336089, 365.4995832689305, 365.1304347618604, 365.2120405264247, 365.20542469308185, 365.21833581563425, 365.19610592434594, 365.14314083239543, 365.12814929059306, 365.14612223038824, 365.16402986351557, 365.17523616349274, 365.1617870543702, 365.1694233718924, 366.09539630308257, 366.5020455258835, 366.6052247715305, 366.665953567311, 366.6657338792605, 366.6407178561707, 366.6171935859908, 366.61550530620536, 366.6246085221475, 366.56678771970894, 366.5486788370414, 366.5294233437738, 366.9097713809455, 367.120436999115, 367.24199316242465, 367.2989329569294, 367.31688760450584, 367.31163210744535, 367.2957047362448, 367.3086250932364, 367.2482152796983, 367.2553360925997, 367.2732162913011, 367.28032515345774, 366.1681111862732, 365.5523345052157, 365.36328404568883, 365.31660000760303, 365.32174624728043, 365.4018557726797, 365.370127855096, 365.41488393226194, 365.42580554196195, 365.4416075510381, 365.4606331329222, 365.4519012327869, 365.4647935295241, 365.0069831396194, 364.8390332720981, 364.7731746206909, 364.7235331311729, 364.66528230506384, 364.7194495166341, 364.7435831540397, 364.7007891760068, 364.64317635223097, 364.6353438889832, 364.6665920973661, 364.6975466934995, 364.998029221727, 365.0303676225969, 365.02145030363596, 365.02545823197926, 365.0148456885913, 364.9445046643279, 364.9975851734083, 364.9424402096619, 364.87948710313924, 364.92109624401746, 364.9064297978158, 364.938190051751, 365.16107916216504, 365.18015989889, 365.1059086970106, 365.21382498735534, 365.2380973433637, 365.2318105889562, 365.1706767431526, 365.09693491898196, 365.0366668871013, 364.9787330251074, 365.0321900596036, 364.95604002073725, 364.93580084117156, 364.9621193014996, 365.0223110748425, 364.96302455157377, 364.9423333521656, 364.8824346413763, 364.873889639732, 364.8716623971266, 364.8713603614136, 364.84796639945637, 364.8802454658316, 365.01236298579556, 365.1609755121243, 365.1197492281605, 365.1645430505868, 365.186886325623, 365.18393451150996, 365.1881744451856, 365.11227201783885, 365.0879986461689, 365.0275406188109, 365.016268767154, 364.98149778542694, 365.2550286631951, 365.3041269197604, 365.21579638100803, 365.17369407886844, 365.17326031464165, 365.1541519023724, 365.22199935927557, 365.2603148207197, 365.28970797386137, 365.46338408627656, 365.5032279901991, 365.39337538274884, 365.09108500732106, 365.06708119268353, 365.0221651418539, 365.0544476758353, 364.9889222437447, 364.8847949233874, 364.85085882652385, 364.9347518846549, 364.8831896626016, 364.8871421918044, 364.826049467231, 364.8130416131198, 364.94342500961136, 364.9957391685784, 364.9618769420259, 364.95430005207595, 365.00110931238413, 365.0225516587081, 365.11751836332854, 365.2109602646095, 365.11422914267797, 365.0337288795527, 365.01943330077796, 365.01365925638436, 365.32703081592854, 365.4857183192697, 365.4881858114509, 365.40541978505524, 365.35306177424724, 365.4069754086933, 365.42588385365076, 365.37377554068206, 365.47601012569834, 365.47126815102115, 365.4559204067386, 365.45377931621346, 364.623296814898, 364.41827865537005, 364.30864786618986, 364.3440747722251, 364.282156514868, 364.2896302753892, 364.30834541458154, 364.34396590724396, 364.3863414249587, 364.294153017624, 364.2606587639766, 364.25605075107507, 364.22737465704296, 364.3785772838322, 364.46188886833727, 364.56941728949135, 364.6183993274844, 364.710069079938, 364.792393922395, 364.84376304182354, 364.91902240860514, 364.9845060239626, 364.9983626875563, 365.00190161494794, 364.66939730006135, 364.5883335147319, 364.6272342958159, 364.6084586929681, 364.5731737356191, 364.5693219088247, 364.63092892443115, 364.7655731014916, 364.86989015323064, 364.89245458534594, 364.7584855038908, 364.85806797744954, 364.8069736307182, 364.8106911294356, 364.8151874622889, 364.83082503299534, 364.83657254158993, 364.8748819982668, 364.9203086574008, 364.87708039752533, 364.8438869805742, 364.8214648255791, 364.79637913260484, 364.6824776105408, 365.426118779624, 365.6551295973962, 365.7939323217198, 365.7896606467669, 365.78975214157026, 365.70648376337624, 365.6275297984021, 365.59432868797967, 365.6578876887574, 365.68753940182523, 365.67497593677007, 365.6563139507709, 367.3487072002006, 367.8517675102783, 368.01905778083864, 368.09812573739754, 367.981442345682, 367.8420848574773, 367.86268991781964, 367.77105675712914, 367.6513590081266, 367.70970516156075, 367.77460219840486, 367.77236968810666, 367.631145354235, 367.4941315473458, 367.36707926010706, 367.357221242563, 367.30176083006165, 367.3192084028345, 367.3442106715085, 367.2714095530115, 367.2957715957414, 367.29470962893595, 367.30802194696963, 367.2631007988596, 364.85243927797336, 364.6240759831407, 364.43734268273676, 364.4120424814005, 364.4380156195394, 364.4813882029909, 364.4835600328002, 364.4388714609126, 364.5012026543244, 364.6558179996467, 364.8377847329993, 364.90327922645923, 365.26153419772345, 365.63492113274793, 365.7197280195635, 365.7475380065421, 365.7279283457927, 365.74349802217165, 365.8563424989329, 365.95360860256574, 365.9747865546696, 365.9668600069311, 365.93682397972395, 365.94446647994977, 365.5752217400168, 365.4873380804199, 365.440097632217, 365.5113130356561, 365.61054425112377, 365.6243193230544, 365.5566144434911, 365.67689581502, 365.6900275554038, 365.729423264862, 365.72001725666047, 365.6285590397643, 364.24702050246407, 363.7252366463774, 363.2570454658475, 363.1240125987061, 363.0989849476619, 363.13178168897326, 363.2651694730976, 363.3081657692591, 363.35861162412266, 363.26663865606224, 363.1408207289058, 363.1249760238956, 366.83806785451026, 373.37666222504316, 375.82684913576736, 376.73947042282646, 377.05383656304775, 377.12520125025793, 377.1220687898634, 377.09346261376686, 377.0783633497319, 377.00989755168564, 376.99367356191243, 376.95108357009883, 371.78619444161706, 369.7739194327971, 369.0811220896372, 368.851729705023, 368.8052055176662, 368.76818033748816, 368.768725878268, 368.7717716626205, 368.7482565097964, 368.7375610449652, 368.74060224525346, 368.7710025224189, 368.4488352780212, 368.93848804630426, 369.17633468177183, 369.3530887528219, 369.386315352918, 369.4722727989911, 369.48268555624384, 369.5515393392485, 369.62777464655306, 369.6542803156668, 369.7563367347726, 369.7340337392463, 368.74785952599643, 368.26883179516034, 368.0389410485, 367.9422561298534, 367.8235690743999, 367.76514453195085, 367.7140564682425, 367.68159309289007, 367.5144392316695, 367.477104925445, 367.439639948699, 367.47584474390027, 367.711618167397, 367.6340684969303, 368.79679678061945, 369.27541966770013, 369.41289082746516, 368.15803174690524, 368.8652550096215, 369.23327633267184, 369.36362018215976, 369.4008750472192, 369.4192522547215, 369.37101909227334, 368.9183920832012, 368.5087636253643, 368.3047883920563, 368.1345096079039, 368.074968993426, 367.96774117101404, 368.13136692966395, 368.06824540087854, 368.1695771311803, 368.0594404895788, 367.9542931790645, 368.0819831129733, 366.1700995059922, 365.5477809374727, 365.16300518048524, 365.0368988000398, 364.91486197790323, 364.90393280419664, 364.97725632092664, 365.04231846436016, 365.09098592603044, 365.1570208109186, 365.1715917829835, 365.17499802511105, 365.1706043215351, 365.2200398612384, 365.1977617437807, 365.2293577385761, 365.3107943169869, 365.220382449663, 365.29361582002707, 365.2844633214226, 365.3639977856981, 365.43027371653153, 365.58004929213007, 365.62302212153526, 364.7579911431749, 364.4213663223422, 364.3423149438446, 364.32251649666006, 364.3462424461001, 364.34312691335117, 364.3104633068033, 364.30713778461484, 364.271412802501, 364.2806371042624, 364.35884794754514, 364.4519819096621, 364.6619213755018, 364.78713802614493, 364.843250132199, 364.8523756585012, 364.9314821799314, 364.9363719150016, 365.01564049468186, 364.94946112400277, 365.06557208282896, 365.0229106687694, 364.9022110367756, 364.89060683370536, 366.73658004022514, 367.4984395815988, 367.793679096791, 368.0012643732587, 367.97231908089293, 367.96001269963494, 367.78211137040535, 367.7483036904042, 367.6869091258261, 367.66764461390596, 367.62285150787733, 367.6531628689384, 368.40239200036046, 374.16667668329825, 370.7735246680071, 369.492629799582, 369.00558567349066, 368.8279146052261, 368.79821628153667, 368.8126561994152, 374.2473422558713, 376.3267512062768, 377.0907807620888, 377.39471128335055, 370.1242053322208, 367.2341579588695, 366.1510815613677, 365.7365421603052, 365.4926015393445, 365.400910223413, 365.4426688204236, 365.4521369074593, 365.5368727958953, 365.5885141279165, 365.5762810928482, 365.62994448077205, 364.94355139583104, 364.6978628501009, 364.56282018981176, 364.4648180801761, 364.44776442572623, 364.5258237013655, 364.56639605497617, 364.6808355641653, 364.7949471452291, 364.8387426415655, 364.78469271305113, 364.8398087603082, 364.7695707216378, 364.7533239303661, 364.7769307121905, 364.7756036237443, 364.7470569643829, 364.7578390151494, 364.7733627170138, 364.788056245828, 364.7564030174785, 364.83823513049344, 364.848462628633, 364.7951502549639, 365.040493388157, 365.2995666666428, 365.40015390259146, 365.4614783721511, 365.4499031647582, 365.4461161525102, 365.49834419017986, 365.5250434284923, 365.60689070062443, 365.5334193801988, 365.5299296699046, 365.6207103139071, 366.2928073005371, 366.59903303658535, 366.6451290878677, 366.76189975649856, 366.77713319997673, 366.9465493170955, 366.9162780283971, 367.0131006931212, 367.1036417889548, 367.1900374644645, 367.25550022818607, 367.2336921646509, 365.72749423871136, 365.3105502046925, 365.0853999706285, 365.0244938524054, 364.9930490495386, 365.0152505206277, 364.99220161373984, 364.9759894863536, 364.9850948991198, 364.9706920597063, 364.8967869431329, 364.84527985246024, 366.9759644987474, 367.64418772761536, 367.90989376819414, 367.8977891257466, 367.85783142628867, 367.84114773092455, 367.6674660662446, 367.4876937693986, 367.58433519483657, 367.6667417916445, 367.68758165567215, 367.7209744108416, 367.230942176912, 367.0765955994761, 367.1350614860557, 367.1432689060633, 367.14035030188865, 367.0844486100552, 367.1033852165419, 367.20325586582794, 367.2638519154816, 367.20526045467, 367.22928096931406, 367.1634058027428, 367.128411386464, 366.9976892111246, 366.9135876979362, 366.88254885142555, 366.86535363821406, 366.8373600126521, 366.7967296621635, 366.7757524376329, 366.83294099529024, 366.8692166284705, 366.8824022793868, 366.84829181380485, 365.09439784760724, 364.30574251366727, 364.00755378740536, 363.8850140165423, 363.82889421727816, 363.881745619199, 363.8849619911972, 363.9173393371424, 363.9087439007028, 363.9392630581881, 363.955410990598, 364.03919439444365, 363.594807643838, 363.2533733196321, 363.0884344933077, 363.05353171324543, 363.0949081637885, 363.12983009136155, 363.1523980705944, 363.21547534965015, 363.2399743920787, 363.2553343654484, 363.2439159871135, 363.27529586276324, 363.5311484901015, 363.68400330666606, 363.7495881579232, 363.81693850521856, 363.8317331222028, 363.86015317423033, 363.8443435001552, 363.86834373010873, 363.8510917692915, 363.9367717418878, 363.9864713861864, 364.0333917467709, 364.26348628641955, 364.4487865301547, 364.55858900699906, 364.5747712134605, 364.6044391361825, 364.67417325464567, 364.74145183891716, 364.7467216799948, 364.76309412787595, 364.7796724751411, 364.7334686648047, 364.67142846048085, 364.47710968853966, 364.5448623678025, 364.5532170804445, 364.5702918449803, 364.54270038768703, 364.496501933407, 364.4508722195643, 364.44101246256025, 364.4210344495561, 364.4381311927462, 364.42781632224717, 364.37620154692365, 364.4620557230155, 364.46634550592273, 364.49059049156153, 364.48304731958467, 364.475281470879, 364.4617216162784, 364.4309519434302, 364.44451171664946, 364.44020487004025, 364.4236554163916, 364.4039973545472, 364.39964534645685, 366.88675692555734, 367.68117231248, 367.95191126715343, 368.04190549714906, 368.09839178295437, 368.10846779343456, 368.13980573512634, 368.1511186330663, 368.1447492870138, 368.084564525897, 368.08253206998734, 368.1074600640627, 366.2158384867858, 365.4792916810176, 365.1782194677188, 365.0831784265023, 365.06855634828537, 365.02792356359475, 365.0398250014803, 365.0486219523217, 365.0356912322391, 365.03969640895264, 365.0451035333167, 365.00786076239507, 364.77415424562093, 364.6023647174011, 364.5678586568998, 364.53422381109255, 364.5115473236906, 364.53505987686395, 364.5764007522897, 364.5853677649726, 364.6471352107509, 364.64450221575544, 364.688695877207, 364.7974726538895, 364.3004738339063, 363.97243281208296, 363.9134427914371, 363.8583997887451, 363.8357077454482, 363.8723333250273, 363.95063266908005, 363.9366474507019, 363.9739921476314, 364.0011935113605, 363.96739455868095, 363.9145353075646, 364.57902506059577, 364.78351336308054, 364.9041925824802, 364.9440587614629, 364.95767767245735, 364.98933161793144, 364.99555589049214, 364.9658928339956, 364.97972024461046, 364.9482176334876, 364.9410634616453, 364.9564434476937, 364.7561522334638, 364.72183782892165, 364.73139356661807, 364.7036613095958, 364.7177573225248, 364.7166725217073, 364.7349287849247, 364.7292436196806, 364.740890053987, 364.75194763531476, 364.7577780294492, 364.7366486006373, 364.5422566054236, 364.5272322436367, 364.48794374720643, 364.4550286705115, 364.4509273297208, 364.4709330996039, 364.5195177877441, 364.5440595251667, 364.57093269453355, 364.62045602507135, 364.61389696254264, 364.6194297298236, 364.5569249429437, 364.55807512995403, 364.61515545139355, 364.6553938206399, 364.68584119337316, 364.6171415861461, 364.60118716145814, 364.56980926887087, 364.5736157118493, 364.6329888007868, 364.57747032911413, 364.5544736820046, 364.69321082509, 364.6653700983657, 364.6614753432331, 364.6381075258635, 364.60260594128624, 364.6192342657979, 364.7208300648271, 364.8198973065544, 364.8574896977575, 364.87977029377817, 364.92279206374866, 364.9314693561266, 364.43165455894734, 364.3834190535946, 364.4161437934863, 364.44123118414944, 364.4664960884301, 364.5170550935679, 364.5068500188412, 364.47903313364014, 364.3540741613167, 364.33037860091486, 364.3274818444196, 364.35744932896637, 364.83064057735055, 365.1209114052628, 365.2762865419626, 365.37346682566675, 365.3850753505284, 365.33231540206515, 365.3476149994819, 365.3435084564636, 365.3470509467422, 365.3482186318188, 365.31858499907975, 365.30219159848366, 364.7910647848206, 364.5774036457016, 364.64348364401866, 364.6726206711553, 364.61895890449756, 364.6074464252628, 364.7766950518653, 364.79900029227997, 364.77795099961145, 364.8220999477485, 364.8477538309828, 364.8790888381001, 364.9049142870579, 364.8134258251218, 364.8635568659467, 364.88256588475264, 364.8037176025527, 364.76307558569937, 364.71321722918213, 364.76433420029207, 364.7431447824461, 364.77545707759646, 364.80087370201096, 364.82494666041356, 366.984957560331, 367.681377715793, 367.92372139215456, 367.9966749466514, 368.0182397439972, 368.03436599896617, 368.021062605624, 367.987801724261, 367.93798146035533, 367.8893175125889, 368.0250883055177, 368.01735133987495, 368.3133108951359, 368.11207499838486, 368.01071296706135, 368.0055873792907, 367.9993779625815, 367.9311455499337, 367.83102529206633, 367.8244406951752, 367.8627649988686, 367.90059050297117, 367.9309336840732, 367.91582053662285, 367.9355150553386, 367.9587274661043, 367.9982895746526, 368.0231659128981, 368.02274407319766, 368.00263709782786, 367.98820282204827, 367.97282557014995, 367.9618510724755, 367.94750443801, 367.94789173387045, 367.9572814429195, 367.49006571625966, 367.4139915671374, 367.3699262784404, 367.3871102637542, 367.4083450554193, 367.4024390422082, 367.3876773670024, 367.39214994690116, 367.39738838831767, 367.3902364500469, 367.3625791688571, 367.35201260975, 367.2801270713371, 367.3981363164916, 367.4624382830995, 367.4858323377742, 367.48999407811147, 367.5005120535704, 367.4594344038117, 367.41219032411925, 367.4091221557837, 367.4589878552157, 367.4486019652533, 367.44463198237963, 365.4943401674137, 364.61409630927744, 364.26401540672015, 364.1427555377124, 364.08313187091034, 364.05276404657195, 364.08088077358195, 364.09533442970286, 364.0803664209071, 364.0800106197548, 364.115451316638, 364.13437869311593, 364.16308698048346, 364.2457663420079, 364.32486678651406, 364.3472898215383, 364.3622230627385, 364.3739460564041, 364.3793171316391, 364.3626642564873, 364.3748448705425, 364.40613969657784, 364.4091589311177, 364.41072803940835, 363.2269526780348, 362.9246453248077, 362.8360977177132, 362.76997543434294, 362.74730803750083, 362.72577512245084, 362.7145593606502, 362.72765518837707, 362.6818754636252, 362.6683215562588, 362.60517036681415, 362.6079042855364, 366.03995834636555, 367.4481713931318, 367.9808239406691, 368.1857100397602, 368.2558529339697, 368.2653428062513, 368.2537764827855, 368.25002176670483, 368.229774257863, 368.2026858586436, 368.18344349568986, 368.1726279635322, 367.25342517735913, 367.29631103044915, 367.2991678420032, 367.29309602269836, 367.3208548401458, 367.3796322916209, 367.41038835214715, 367.373167822428, 367.3506229976246, 367.3025980716995, 367.3063382526359, 367.27597658067873, 365.277927836865, 364.5262935324563, 364.2516915642719, 364.16014999285915, 364.13301572415145, 364.1391255210442, 364.15927810541626, 364.14775531154726, 364.1556251482605, 364.1541246893131, 364.16989387023784, 364.19154870181836, 364.4484493233929, 364.62768330746087, 364.6956212362438, 364.73776232923785, 364.73437138887886, 364.7353587968474, 364.70857014950013, 364.7149596830501, 364.73437140583155, 364.7132415004143, 364.73447844062014, 364.73510041360265, 364.6246798854195, 364.6317593929654, 364.58419804236934, 364.56041076706055, 364.56004534971106, 364.58428415712456, 364.6247903202691, 364.59854555145324, 364.5652231569262, 364.5710506417222, 364.6223392404631, 364.6379845449072, 364.5740899358771, 364.54243294317234, 364.48245898805664, 364.4520512795126, 364.4559104876311, 364.40813975153407, 364.3651754742602, 364.39229407756386, 364.390803375213, 364.4059999663334, 364.42673776008735, 364.4241503908215, 364.4863861058313, 364.6082489394981, 364.6522810666998, 364.6651719276348, 364.65411516822735, 364.6768773631868, 364.6693150929769, 364.6839557029853, 364.6566282134366, 364.63892640581753, 364.61289837741265, 364.63624749761107, 364.9055347248999, 365.0998716791382, 365.0946254362572, 365.0700743554186, 365.0606006440092, 365.02581315587315, 364.98848066485107, 364.9636155164115, 364.9183399384393, 364.8902238316587, 364.84777553420895, 364.96828651799706, 364.2263416812671, 364.14792964411566, 364.1140769917803, 364.01894244033616, 363.98455723803454, 364.0046036918582, 363.97978666773923, 364.00209624592776, 364.00096343539093, 364.0340126215993, 364.08818916092696, 364.0957014264661, 364.00437224045834, 364.2116114328309, 364.06962687177844, 363.9080125289247, 363.8117698887197, 363.80910152894126, 363.7457865524584, 363.76646728262205, 363.7337444316915, 363.71155328064964, 363.8135411694776, 363.83898735317564, 365.6229540892574, 366.48403736984886, 366.8223338679728, 366.93377077939346, 366.96353601274905, 366.9757679139638, 366.97672385252594, 366.9491020850847, 366.9678487942736, 366.9280865146053, 366.8773359340287, 366.937900874625, 367.9176044512421, 368.2491717351755, 368.36673548126146, 368.3724594094258, 368.38854248725886, 368.4069724355503, 368.40050871564364, 368.44515670425903, 368.4496061253933, 368.46719317107005, 368.4411304039206, 368.4642503025805, 373.9473762946956, 376.0715635322281, 376.86664254234637, 377.16935500674697, 377.25874465973715, 377.2656309108377, 377.2443358933853, 377.2318284299871, 377.1912908438353, 377.1603776638398, 377.1848751474892, 377.2054463120948, 370.50708796716816, 367.99498938199065, 367.0922502828752, 366.8352506443568, 366.73127278974675, 366.71232202441604, 366.6542142940027, 366.59685581519636, 366.60426775361645, 366.6299102955717, 366.62281675489254, 366.64117719014934, 365.8362677542297, 365.37808746670066, 365.2623877833239, 365.2672633153729, 365.3384186448576, 365.39539271970034, 365.40013324179506, 365.36167087665297, 365.33834789017897, 365.25595640326526, 365.28635103816, 365.2296644953643, 366.4038364400997, 366.9856222938349, 367.1573688721818, 367.3013544344556, 367.237294971484, 367.1765892952197, 367.0347377571727, 366.9623521253449, 366.93944084429455, 367.03654979528346, 367.0100623578811, 367.0238631603416], u'posY': [181.8232595003568, 181.60850616008295, 181.6810165092963, 181.66808251899505, 181.67018322568882, 181.67051416058212, 181.65693267608253, 181.64537148619516, 181.63327917350787, 181.6224511641252, 181.62123519502424, 181.61055805069734, 181.5410108037312, 181.5169163538427, 181.50465649234602, 181.5112584917215, 181.51358784467564, 181.52892640999292, 181.53533222036918, 181.54113399483612, 181.5350728928088, 181.5416230016158, 181.53694869763243, 181.53880036359726, 181.64346251398678, 181.70755419832244, 181.7286444111401, 181.71956840204888, 181.70696753928846, 181.68694578073726, 181.68137381969697, 181.66154693355156, 181.66215565004038, 181.6774517298501, 181.66674459314217, 181.6708486602486, 181.54807327456786, 181.49803109038032, 181.4880514756798, 181.47436774658232, 181.46617634874914, 181.46499284528568, 181.46635629127113, 181.4812126109756, 181.50485162718465, 181.5141846411249, 181.51635529793333, 181.5109473471398, 181.53091730595762, 181.5421980789013, 181.55861012253567, 181.56801544568606, 181.57856312323932, 181.58895989918466, 181.58321226539476, 181.60246800182108, 181.62962879789737, 181.65290468731772, 181.6620429349973, 181.6661379767811, 181.47242979540908, 181.42262643585082, 181.43731999469773, 181.45453857493135, 181.45937852150655, 181.4605922319808, 181.4550665342189, 181.45448467653807, 181.44160000601332, 181.44316773452573, 181.43923152153863, 181.44224857228775, 181.52212303458595, 181.5518680926285, 181.56589976450417, 181.57053856570786, 181.55603216233072, 181.5471217876697, 181.55213806259206, 181.5383226454772, 181.52552149601362, 181.50872821951322, 181.50441008393912, 181.50361223846286, 181.71065423102914, 181.8147481921805, 181.87339526774429, 181.88560611298894, 181.8886986440485, 181.87693588846994, 181.86606619813207, 181.85721199392918, 181.83467958731802, 181.82615347209634, 181.80933983598928, 181.7806149895115, 181.39097269931634, 181.33519983232145, 181.30404438435627, 181.30501589730216, 181.32097056469567, 181.30803752317544, 181.32963814144648, 181.24436541667478, 181.24929247857, 181.22297825919964, 181.2748054233401, 181.28926878665536, 181.48728034088316, 181.66360210212804, 181.7449471583602, 181.77617203163894, 181.79312319903718, 181.8067144494444, 181.8115456476683, 181.82537486146092, 181.83510504916353, 181.83551219186205, 181.81961096640023, 181.8299888227208, 181.6006724955054, 181.54374706743576, 181.54059632538457, 181.53857779104177, 181.53247251416292, 181.55535760715867, 181.56966215482834, 181.55445458230662, 181.55118825575437, 181.55940482377142, 181.5568643377788, 181.564583454316, 181.40542821481893, 181.36622752004624, 181.36045748779694, 181.34416070510963, 181.34154554236966, 181.32949020379877, 181.3097653588244, 181.2891645455758, 181.2909341439891, 181.31446065511548, 181.3021751384902, 181.3080972695694, 181.40586610447684, 181.45033423409697, 181.47389567603813, 181.44722607295796, 181.44320279445012, 181.45191953012528, 181.4745313372246, 181.5019299516858, 181.49498419752092, 181.47152817665406, 181.4290509543017, 181.43461291548493, 181.34816569617084, 181.3608256270818, 181.32592780004987, 181.274860174, 181.25578531552267, 181.26794795636613, 181.24497155453741, 181.2461185233195, 181.2448428194179, 181.28246242249384, 181.3058763405953, 181.3164605224194, 181.40534266724254, 181.42268555796562, 181.43937237665182, 181.4523680587751, 181.43330824957332, 181.41281595064928, 181.42422509222627, 181.42609331610274, 181.41111480923428, 181.3785462353205, 181.36788512471557, 181.3865346746847, 181.44512016729067, 181.46186997212496, 181.4804092241196, 181.48859720712446, 181.5281980487292, 181.56354057044288, 181.5398717886419, 181.55646851096904, 181.54417775794226, 181.58038605135494, 181.54364387364743, 181.5427580145453, 181.42811587940142, 181.29393807380126, 181.2473625149939, 181.23282254477445, 181.23306484724537, 181.25370474027724, 181.24234152943174, 181.2544714027476, 181.26729112452466, 181.27154158454812, 181.26638294444913, 181.2875376485789, 181.48941978708922, 181.54337841210403, 181.52680568072464, 181.54008351655207, 181.59447725282433, 181.59489258351837, 181.60598526340837, 181.60559734161626, 181.5961925960819, 181.59704816610045, 181.5969635071068, 181.58165553082225, 181.57819205807797, 181.62061706771422, 181.63175605387576, 181.62675305067748, 181.6265557124568, 181.6134059833946, 181.5846636164417, 181.57150816384086, 181.5625056564022, 181.56253203203406, 181.5443847266308, 181.54730239308188, 180.65427165080612, 180.4941023587681, 180.44282289865285, 180.4527279326, 180.48595484195812, 180.5039678965823, 180.50995991355904, 180.50416359392614, 180.49666694252113, 180.49700131392922, 180.50304709889707, 180.51956371646932, 180.01339051485138, 179.82301623571036, 179.76056873856254, 179.7392043407113, 179.7499082016841, 179.73714943225528, 179.71950978501567, 179.75042163107048, 179.769201872263, 179.76305054345514, 179.7718692882044, 179.76689449407388, 180.17043907287788, 180.30860526716134, 180.36964056267524, 180.4040185675147, 180.40380284978957, 180.40455026243572, 180.4056419511522, 180.3960717851423, 180.39823534877544, 180.39419517290395, 180.391797439846, 180.38770194076366, 180.8728861192314, 181.07050688408293, 181.15076898445886, 181.17130580738498, 181.1774443496615, 181.17380217866304, 181.17697702316, 181.1705330855188, 181.16289262305034, 181.16706904567394, 181.18400335324662, 181.17826571667746, 181.0088538585305, 180.9833299339241, 181.01184341761567, 180.99730239408493, 180.98796609637256, 180.97768576933788, 181.01891779466942, 181.02753798436376, 181.0073237225666, 181.0122178794874, 181.0350497932948, 181.01085834311775, 181.06819190890099, 181.1522068248107, 181.1603108780382, 181.1829952159373, 181.2243380985323, 181.20201563947992, 181.2182535959782, 181.2427335344722, 181.21589963324868, 181.20124827371438, 181.20150006087334, 181.19537903215445, 181.5837596410636, 181.74476669365194, 181.77610875715433, 181.8006917982683, 181.8096107361403, 181.8081929366688, 181.81186483048032, 181.78919312416397, 181.76978762770267, 181.75318644037466, 181.79669857837828, 181.801694461108, 181.55206348033153, 181.41235625461545, 181.35029860959602, 181.32704225566349, 181.33164735405006, 181.33400045443264, 181.35460613906494, 181.3435334474705, 181.34816257121832, 181.34698684864784, 181.35030887881985, 181.34751258548232, 180.77794355554406, 180.56035929071246, 180.47453135763695, 180.4516812760766, 180.4234591063501, 180.43539021231666, 180.4476436295992, 180.50262430219323, 180.52802084575177, 180.51512654671836, 180.5132252799804, 180.5210325844696, 180.90920682634, 181.02583082559428, 181.08950463199537, 181.09981427529655, 181.10847957723735, 181.10822461175079, 181.0871899080177, 181.09279111173544, 181.11364975860795, 181.1308382817024, 181.14027147399074, 181.1455546727705, 181.44310256117166, 181.62234405411075, 181.68722180353575, 181.71279166561425, 181.73007885049466, 181.70488921996431, 181.72308294218848, 181.76042517770233, 181.7672993611998, 181.75089341169712, 181.76682715524618, 181.77620947210593, 181.50664630290305, 181.38322466374888, 181.3224608036416, 181.2866540163844, 181.2734178527501, 181.2824874294385, 181.31750158835973, 181.31926029751105, 181.3234917232187, 181.33772337329665, 181.32800457538164, 181.33693905715378, 181.4206168309593, 181.40576492147574, 181.3756988886, 181.36585894473694, 181.358311935722, 181.3643895918781, 181.36569643556382, 181.3529393857678, 181.32508993726304, 181.31660213239874, 181.3162730806003, 181.29663204911174, 180.40792747792298, 180.1091252101778, 179.95883373266167, 179.88698734878412, 179.84256217420918, 179.8661131520283, 179.8465089243398, 179.85728938122193, 179.87418181247432, 179.89128326124884, 179.93955731198008, 179.92989117619058, 180.49146223137598, 180.74624354738964, 180.85676305350947, 180.89282593576908, 180.91371451932488, 180.92528553226705, 180.91472507970474, 180.92223878244118, 180.92415235466132, 180.98308964898368, 181.0012355198443, 180.98329719551347, 181.50335574101896, 181.63884555906822, 181.7049226284416, 181.78222089030882, 181.83065593294234, 181.83415204802284, 181.84103912369213, 181.84432943254953, 181.83425896746394, 181.83304191112242, 181.86384426295774, 181.88228660600515, 181.81179152218627, 181.77067698161653, 181.82337743510487, 181.84380529641854, 181.85376353014638, 181.82985455684087, 181.83801285658384, 181.80592284580604, 181.82257281155788, 181.81885268589693, 181.81960428207518, 181.82120105405167, 180.9605181939777, 180.6961659709685, 180.5678323264322, 180.49534344208297, 180.46810894595197, 180.45806663945314, 180.4133445956859, 180.38435007147658, 180.4233856574616, 180.4639502686633, 180.442569638488, 180.42704043443305, 180.32487948286848, 180.69404181208742, 180.83125054278227, 180.9176052518052, 180.94673107999324, 180.94631744940466, 180.9615559681339, 180.97418323767684, 180.9954500801097, 181.02566125165714, 180.9852347994955, 181.01631155490153, 180.24242819649345, 179.9350557596768, 179.85621452337372, 179.74425272449886, 179.7649961047609, 179.75602023274192, 179.76449041788808, 179.76816714042218, 179.74853034919437, 179.78750605266686, 179.83106665841947, 179.8171478501307, 180.2880148989748, 180.5099253862588, 180.6021726854042, 180.6105833444585, 180.589939410106, 180.55207967107677, 180.5584945585364, 180.55986821743545, 180.5647367281638, 180.5442732281014, 180.57869792356908, 180.5417173256368, 180.60899217628076, 180.72145618961775, 180.74250165779932, 180.75183452116846, 180.7338867639573, 180.73255729598372, 180.82269976912622, 180.8226334314521, 180.81018326763825, 180.7717906113811, 180.81160842145482, 180.79651766112048, 180.61024027304157, 180.58878972044025, 180.50733610386234, 180.49526371520625, 180.5263257355124, 180.52960091556525, 180.5346496654916, 180.55606780531747, 180.5618768879516, 180.58555924547167, 180.58332840166938, 180.57365494472447, 180.52118208433615, 180.50300812194033, 180.48638838502865, 180.49287726344608, 180.41274585292464, 180.41718928499282, 180.45503833978967, 180.4789958911241, 180.59715420756734, 180.54943919946868, 180.60370309999385, 180.64592499342658, 180.2712104118159, 180.39156179483564, 180.42506666972008, 180.45065084031125, 180.45205992491503, 180.46455700306277, 180.3793927610302, 180.2023629583614, 180.20225909053704, 180.25734531928723, 180.3065890276888, 180.37206061863156, 180.14972690489458, 180.0230690712157, 180.07258467138797, 180.07534497337653, 180.11428165752602, 180.1739372724156, 180.30113746731655, 180.35217902715812, 180.30007445375557, 180.30671285349604, 180.35012967352088, 180.44787649257933, 180.52707344893008, 180.87622685841288, 181.0218190655242, 181.05066972585405, 181.04716773821846, 181.03584857805072, 181.00716125026307, 180.94679899168165, 180.92742626880732, 180.97836985517642, 180.97099398565692, 181.02563148235902, 180.52189110319858, 180.86904016473642, 181.03908455007522, 181.1319219060823, 181.206907446674, 181.24293951523322, 181.23915223813864, 181.2567731757969, 181.271213526912, 181.26966245353705, 181.26654070808257, 181.28375334499694, 180.4770948899058, 180.16185118771057, 180.10841044136907, 180.0670713532182, 180.08609356092043, 180.0899356005475, 180.10763661221648, 180.0978621177194, 180.02830476146994, 180.0343751971275, 180.00483052330904, 180.0291973063711, 180.5488641015242, 180.7714107689545, 180.85217364487633, 180.86186124382237, 180.85558899381977, 180.83362464822756, 180.82619383506216, 180.85018920931537, 180.85246449842086, 180.838504285268, 180.84097973839118, 180.836540753068, 180.74450520726188, 180.73139915928968, 180.7639509958003, 180.7703373003479, 180.74948054498776, 180.76082164008542, 180.80742509292108, 180.83090420857667, 180.83474338635054, 180.77936638566072, 180.7477146986201, 180.74852740096438, 180.662259367007, 180.9214417581579, 181.08615199233196, 181.18776977147562, 181.2049350246991, 181.20939559923673, 181.20905768224844, 181.2259126221664, 181.25394160442926, 181.25064495075617, 181.23116793381985, 181.25523884785025, 180.7257694654658, 181.07950864870944, 181.23346979846687, 181.27552972570322, 184.99927665183563, 186.39732875597292, 183.183573488153, 181.90552868245888, 181.44129195571392, 181.27763587073738, 181.18618056181376, 181.1501914541986, 180.5520463415044, 180.74855151208948, 180.8459071801811, 180.88512055870262, 180.8971728370953, 180.9057067477847, 180.9096389453332, 180.90581595298, 180.8994356650784, 180.90012946519056, 180.9124887439471, 180.933248742659, 179.94868159765494, 180.22125965696685, 180.324810251203, 180.36349509586864, 180.4037470917088, 180.3936492789073, 180.42804193559388, 180.412747929653, 180.4213767546045, 180.40302158480551, 180.3702190919131, 180.38313681651715, 180.37905311486242, 180.78856605169017, 180.97132396118482, 181.0495318338306, 181.0880683045054, 181.06269782238815, 181.24246325259782, 181.32158779900894, 181.34314373519226, 181.3593563019749, 181.38472334917742, 181.41118113928044, 180.56630826324647, 180.25724988171703, 180.14097227039147, 180.09310969241508, 180.08284278318172, 180.07305600094534, 180.06101680815917, 180.04778826927335, 180.0387414753456, 180.03790938932096, 180.0512308336262, 180.06733371304597, 180.25008626410826, 180.28847675137982, 180.30014619174193, 180.31790117515982, 180.32248010434213, 180.31958893827763, 180.30564417707242, 180.29586831414917, 180.2988110030691, 180.3098029179655, 180.31720782369587, 180.33158537134761, 180.10165678882024, 179.99799702446032, 179.97145817120287, 179.9564155432401, 179.95260311512922, 179.98063078503688, 179.96314197451773, 179.96282410890177, 179.97331457654923, 179.95439536309993, 179.9452638633699, 179.9397670555943, 180.55789862769927, 180.7662589431458, 180.84446910585015, 180.8689589546646, 180.87240539577454, 180.86184144201144, 180.84668375275763, 180.84158641214233, 180.82351907456416, 180.8224591332394, 180.82933517883788, 180.8422599468626, 181.02688006238924, 181.0687695597488, 181.08010204282473, 181.08131899536758, 181.0740529803841, 181.0689362559664, 181.0691065131393, 181.06996014138474, 181.06685449374567, 181.06966448965866, 181.0723189978227, 181.08786290798307, 180.44679269661032, 180.30701698780928, 180.2587365858432, 180.2426109043431, 180.23667363131747, 180.25433291715566, 180.25670779682414, 180.2580695699988, 180.28025886860658, 180.30358965741254, 180.3001955690127, 180.29931923030375, 180.2243769429022, 180.15750570479562, 180.12935382225905, 180.11365312624886, 180.1011614253724, 180.09331902622912, 180.08774472693645, 180.07118951543188, 180.0930258522354, 180.1014607005359, 180.11011172646093, 180.1249012543857, 180.47655028033472, 180.56648997190877, 180.61448216341313, 180.62912467225567, 180.61904849846934, 180.61680206748446, 180.63771425213667, 180.61638932793718, 180.59964239412133, 180.61217310660234, 180.59458475734309, 180.61398072841584, 180.82647577816172, 180.97759775557262, 181.03411513327123, 181.04782128336296, 181.06052718487794, 181.07293452580035, 181.07497168299082, 181.0699383523416, 181.058579754365, 181.01141626599946, 181.0011526149906, 181.00098770241874, 180.99101353746636, 180.97633431091123, 180.9778048112016, 180.98555712024998, 180.98424849849405, 180.97596104700574, 180.98521627858722, 180.99899384783308, 181.01320495488835, 181.0131788112852, 181.00008805585762, 180.99621554475138, 180.49184013788778, 180.23895306110919, 180.13171124944887, 180.09025492560855, 180.07573127695235, 180.0320111683821, 180.00210309840753, 179.99828623779266, 179.99940150467393, 180.01001440198849, 180.02365130297247, 180.08112190592192, 179.87039449118464, 180.02736101002063, 180.0801914993537, 180.10915847656082, 180.12314502237115, 180.13381346876602, 180.14684043195606, 180.14671713837927, 180.15090147325233, 180.14073747914117, 180.1397114818802, 180.15663174072535, 180.0143292959857, 180.04391504884066, 180.03145970527183, 180.0205360503525, 180.0091380722894, 179.97694691678055, 179.9915098757602, 180.00159297304322, 180.00410113210853, 180.00676141589284, 180.04001211349234, 180.0599902050381, 180.287545905747, 180.68319476097076, 180.8282283385235, 180.90443977210077, 180.9031573863854, 180.8996954069785, 180.8696651787993, 180.86343873784426, 180.85289981873208, 180.86894897456358, 180.88161874352798, 180.90153670315314, 181.43314676202786, 181.62550610659508, 181.7022757500285, 181.72925643698616, 181.73378551293808, 181.74485311337963, 181.7366294794654, 181.74099374836604, 181.72708313763806, 181.70984681650884, 181.69613603660073, 181.7016318529994, 181.50804724954003, 181.4491364314057, 181.44452519969553, 181.4488725397787, 181.40958982383228, 181.3891334140174, 181.36393278202178, 181.36321696331396, 181.3699400366661, 181.36085854919742, 181.40678836001598, 181.4224143426094, 181.42203477664464, 181.39296372674852, 181.38240566455494, 181.37351696278316, 181.37679888575585, 181.36498383713197, 181.3618205221741, 181.37772871823577, 181.39581185047956, 181.41737470440054, 181.4298177309863, 181.4459442240839, 181.41141354679888, 181.43535632226656, 181.43492372350423, 181.42895356569412, 181.4133060960776, 181.4132251521742, 181.40516783056057, 181.4006882550478, 181.4229825290926, 181.39619437382015, 181.3977353713024, 181.42780747036252, 181.49653973636552, 181.52703663490786, 181.54717040915622, 181.55211665123622, 181.54502286793235, 181.54732750730176, 181.5354206408811, 181.5528576328257, 181.55862125364106, 181.58356547771717, 181.5976123260998, 181.61066806727143, 181.49824107463263, 181.47722692280152, 181.4500191366979, 181.47051892735658, 181.4466527192681, 181.43935744075728, 181.4295094734675, 181.42158537702372, 181.41257755979623, 181.41152162990343, 181.43573485367241, 181.4461735941582, 181.49524777689876, 181.46854482805713, 181.42450882914233, 181.41590055091348, 181.41932906250636, 181.41604136308783, 181.41714364041204, 181.41712399739237, 181.40016659935526, 181.41985250005354, 181.4505877117862, 181.44060273565452, 181.42769686856118, 181.41054971316225, 181.37613888759753, 181.42697220841757, 181.39334470844898, 181.3776021315051, 181.39983222114114, 181.41879629581322, 181.40584275939142, 181.41853459698385, 181.43395786068734, 181.45383532129526, 181.3603032292903, 181.33212628461274, 181.30690631949489, 181.29783119059783, 181.2770796479445, 181.26557055281188, 181.26846045250053, 181.29025791627055, 181.28798403258452, 181.28475277176437, 181.28421711934578, 181.31204343084292, 181.20561171408877, 181.1979590716875, 181.19726177877521, 181.19421793430178, 181.17584249760645, 181.12572993467802, 181.14094263691726, 181.1375337815787, 181.13584932601987, 181.16279136024946, 181.1716360667906, 181.1587713111872, 181.20021053727172, 181.24127843405478, 181.2407165090073, 181.2803811824557, 181.33443353727623, 181.33440327521527, 181.30491633725265, 181.2891163311731, 181.29368342490372, 181.28627656180083, 181.2683986638865, 181.27208665312713, 180.75417089503247, 180.559269427923, 180.52661675855057, 180.49665143644128, 180.49745245542834, 180.50004545771074, 180.50811544729424, 180.52309720323836, 180.5195349373401, 180.49284166906543, 180.46820701080043, 180.3874022843663, 180.72454369725773, 180.80066883445417, 180.8127819348572, 180.82328305291105, 180.79395159400758, 180.82665512628193, 180.81949700379144, 180.83828537022904, 180.85240915953537, 180.8199720762637, 180.82154389464236, 180.85920038095642, 180.82123710696868, 180.80686085506147, 180.77764292091558, 180.7913570780147, 180.7696351152607, 180.7597310896675, 180.7541592833485, 180.75670532669497, 180.79404221921519, 180.79210075406465, 180.7818561826974, 180.79353436362695, 180.8024830606077, 181.09733107897412, 181.20413680498228, 181.25624750278251, 181.2247980060825, 181.21852514007003, 181.21381260233483, 181.19890962397483, 181.2102727122874, 181.178929115854, 181.17107998582568, 181.1705252801088, 180.9046862043956, 180.77567233176083, 180.6942130636208, 180.69314766966426, 180.66836629189612, 180.71016928563884, 180.7657084478743, 180.81276131492342, 180.81851779784336, 180.82807888392693, 180.84001830995106, 180.7929469731133, 181.27246412899657, 181.44613132957215, 181.5111715508318, 181.51950865240562, 181.5073302745373, 181.50508393312694, 181.49768733272933, 181.50398518338767, 181.48073297484697, 181.46163010866542, 181.46622817913192, 181.46176737152518, 181.46123699095284, 181.43358278292547, 181.4317923941327, 181.40005903649083, 181.40753571463011, 181.40918229686594, 181.43579452115873, 181.43369396891566, 181.44151468838928, 181.43858468096, 181.41226691760517, 181.40214984374566, 180.95133557503527, 180.70140717411886, 180.64748750744897, 180.60338374391546, 180.55516014095448, 180.54366152015336, 180.66283643015223, 180.64831036565823, 180.69639353075362, 180.73947411214561, 180.76455923311684, 180.76269282627746, 180.61729186353264, 181.06674376608888, 181.21088138568226, 181.25756997597435, 181.27647647411985, 181.32517708264768, 181.36254883727563, 181.39605179070531, 181.4144019207839, 181.4012054345504, 181.4264158713446, 181.41767194469546, 181.22466074339644, 185.06553001312457, 186.56572487455773, 187.1044274093953, 187.2785972841314, 187.35159034859507, 187.38303135746693, 187.39723144027244, 187.3576832387655, 187.32809280683045, 187.2835307563036, 187.25663921451044, 183.44913314595294, 186.00856244713736, 187.00498839196257, 187.3826894491983, 187.46948143837275, 187.51966119789094, 187.53812461002573, 187.52558301016361, 187.53424046699598, 187.56264931045092, 187.56689623500841, 187.54208630712196, 183.2159263292468, 181.92674780998095, 181.4131331980187, 181.2158624590041, 181.1367046995488, 181.15768809270747, 181.1383720560596, 181.10853982156576, 181.1028253916345, 181.11017776835735, 181.18534004668504, 181.2193215339667, 180.70434275253018, 180.83064140305066, 184.91170424191873, 186.44056978308242, 186.99666879123995, 183.23207736834192, 185.7805641182619, 186.73546502848126, 187.0987884300765, 187.2720903059956, 187.34696864358384, 187.40978456421195, 183.08027549571509, 181.78792510516686, 181.27806789141863, 181.10099463054013, 181.02605948733108, 181.02575491673161, 181.05827169899078, 181.0451198264322, 181.06356804379783, 181.09498177101347, 181.07684057386666, 181.12530106261258, 180.28506827559283, 179.9485021962325, 179.8201313906449, 179.78515186413892, 179.73606764291304, 179.77709720538869, 179.79483407739173, 179.8096796422839, 179.81951953146267, 179.82567778931457, 179.85432540253544, 179.88392512211757, 180.59344809850512, 180.8481389288767, 180.96469914381808, 181.0280980038822, 180.99735880847382, 181.05985460189382, 181.05752210861803, 181.0660385938643, 181.079738904497, 181.07641196294796, 181.0564336755458, 181.02188323494542, 180.89584585493864, 180.80370839119328, 180.71124185545267, 180.71986178729242, 180.7434854326907, 180.763309873429, 180.77031725721713, 180.79137497766374, 180.73034663255774, 180.75684746672295, 180.74842939715583, 180.75160602555695, 180.26696275230296, 180.07746511881194, 179.9887745276155, 180.03839502448068, 180.01695937440127, 179.99775123790334, 179.9870980534758, 179.96381060014286, 179.94612850570934, 179.96695374498717, 179.94361920489635, 179.92986099702077, 180.4069827726171, 180.74647984829474, 180.89595622846534, 180.91066476581258, 180.91480691405127, 180.9035110491268, 180.81907846646854, 180.82890941057852, 180.78416605441473, 180.7732711462545, 180.76395519205207, 180.77852590812947, 180.40692163967833, 180.8060094449367, 180.80081709770317, 180.767477197972, 180.76797669580858, 180.7771675838321, 180.81347590569814, 180.8066581165442, 180.9707548958885, 181.0117920306804, 181.0511327698997, 181.167936206279, 180.35389022648317, 180.05122369267377, 179.9156897420421, 179.8912933733098, 179.85539801394563, 179.86808521786247, 179.87001657981156, 179.89537986021975, 179.89073845168883, 179.88625372133987, 179.86884151583337, 179.79460856034024, 180.7321638029738, 181.01075669167702, 181.11232371472403, 181.16107127833286, 181.15560587873318, 181.16972718644524, 181.15312302803335, 181.17955835729592, 181.21895212620325, 181.199667852665, 181.22732991032436, 181.24981190189666, 181.18496926643448, 181.12700907162858, 181.10812434150648, 181.10433537390094, 181.11856295122843, 181.11933258403113, 181.11729057427, 181.11192946161952, 181.1139512697577, 181.13238506885693, 181.11598422903836, 181.13067587110203, 181.28752214908332, 181.3666373343876, 181.3597966787603, 181.36379126136842, 181.33879291035507, 181.3381553957689, 181.34612805931494, 181.3499109921946, 181.33154076058293, 181.34408718458292, 181.36804789139913, 181.3930745853026, 181.425121432701, 181.44174095734044, 181.42141839650134, 181.44839895722697, 181.44721957828554, 181.46295446496077, 181.46954472021903, 181.4789892231438, 181.5013207569807, 181.49702393646126, 181.4955082164493, 181.47018620173083, 180.45690888246813, 180.09244151815537, 179.93393683681666, 179.9094416848344, 179.91817032367186, 179.94532157999046, 179.92544316002903, 179.87630675157223, 179.8133305690639, 179.76728229404472, 179.7703328901622, 179.80119764774778, 180.36687256294798, 180.86203199251034, 181.0801058264706, 181.13981188011397, 181.12603029106242, 181.13412198343937, 181.07568476579488, 181.05329088775844, 181.09721747843798, 181.1421288276279, 181.13104252478297, 181.07862837992027, 180.62838361567898, 180.71849381825913, 180.78115330767199, 180.77584377738683, 180.77000656795784, 180.73725653131905, 180.74712461414967, 180.75934968937074, 180.7163768419443, 180.6912830672852, 180.6812435270077, 180.69800771271423, 179.91092441176033, 179.82069845205888, 179.77488248131382, 179.78885765842122, 179.7501937452865, 179.73304419830174, 179.70488760882913, 179.6890889261088, 179.71726812227632, 179.71794574654896, 179.72986582456548, 179.69831175938356, 180.09145305167894, 180.2346812270881, 180.24300593098346, 180.2491334775089, 180.236102983382, 180.24587640327678, 180.3103067941231, 180.3773673813008, 180.44282648998467, 180.44729653937694, 180.43658142317028, 180.4219887147688, 180.7768767249048, 180.90964715161215, 180.9360503123077, 180.92825519343617, 180.9782595041582, 180.98478541858807, 180.94309424116105, 180.9398959016318, 180.94065432717434, 180.9603565899372, 180.97184073082389, 180.9596070525264, 180.92116922026037, 180.98520583473044, 181.04133571769995, 181.03261361027137, 181.04267037381317, 181.04938514861774, 181.08595309121216, 181.10405404973278, 181.12461394802108, 181.11420739039002, 181.09493169842764, 181.0905821522879, 180.63704387781485, 180.3708238517223, 180.27647880059493, 180.2156391857566, 180.16146051231286, 180.1713260836387, 180.14444485427344, 180.14198839263503, 180.1148441230225, 180.10993224191762, 180.10123197156594, 180.10072936472707, 180.23941451868623, 180.2103728220014, 180.19882651662834, 180.1842646620531, 180.19314869693483, 180.1737409720257, 180.18402331884505, 180.20002417917237, 180.21544908521201, 180.23448586287307, 180.24179648632358, 180.27021985559327, 180.5073802607905, 180.54821144062254, 180.56262332329712, 180.57145912249453, 180.5789308101018, 180.57605461926997, 180.5651001540534, 180.53596720050132, 180.54179092478023, 180.54856702088048, 180.5421452071115, 180.5319985323799, 180.4513889638932, 180.48886789911123, 180.47208425566964, 180.4736035614617, 180.47150449406172, 180.47259792907101, 180.48951326704912, 180.480883548823, 180.4766433121967, 180.48388291403958, 180.4934686384297, 180.48311441445128, 180.9243644008361, 181.09494595466646, 181.17189148193032, 181.2017000326933, 181.19666251166277, 181.1909993561836, 181.18748016188997, 181.18363062387402, 181.19238000002306, 181.1760319058363, 181.16614346959628, 181.17927071701044, 180.93588466181492, 180.92425628173925, 180.91483612179846, 180.8977287673351, 180.88053422218752, 180.88391248746825, 180.87768343992067, 180.91162064464498, 180.94531710608783, 180.93743555785014, 180.95315019058265, 180.9415059855438, 180.93167954976414, 181.0380458492814, 181.09458605260363, 181.11418219898798, 181.12042529225263, 181.11999715271537, 181.12139415382202, 181.1176960798941, 181.13238449453786, 181.14672588011487, 181.13365067262814, 181.11818802631151, 180.79509500183292, 180.6871329654789, 180.63595067122418, 180.61025740415448, 180.5931440355641, 180.59458182611067, 180.60666334335565, 180.60678710978314, 180.5889670918202, 180.59299349991477, 180.57094483799017, 180.6010367750859, 180.91575313994053, 181.0701411398915, 181.10555278645364, 181.10476018326048, 181.1077938751404, 181.10894783326802, 181.12561788173434, 181.13116884119762, 181.13968584940784, 181.15076536126142, 181.1566920897043, 181.15218313669104, 181.11716275612235, 181.11804474952962, 181.08777138859716, 181.08438895873857, 181.07036908223736, 181.06827654508535, 181.0841783893579, 181.1075559564052, 181.15440721287086, 181.1573676752283, 181.1625617073226, 181.16687466202404, 181.1888165245273, 181.19242081571733, 181.17991751015353, 181.17852674919754, 181.19761072029303, 181.2222256325481, 181.24142404031423, 181.25687191893917, 181.26496268089255, 181.24757456667749, 181.2810248494676, 181.27047566267015, 180.93276513873258, 180.8413768707385, 180.82696695589485, 180.80833246314666, 180.8114014357995, 180.80409722087614, 180.79846268757035, 180.80400288006788, 180.80383826647443, 180.8046443234876, 180.8170170674593, 180.8036978629663, 180.6638934446446, 180.692893262347, 180.71388571304217, 180.70936578810247, 180.7219231851881, 180.71778394775367, 180.73852630139183, 180.7562338225984, 180.76081988758733, 180.76501429909516, 180.76063996141627, 180.7618202157484, 181.33371414847758, 181.7151023222489, 181.8319968767448, 181.8899775650109, 181.91228679165815, 181.91281182087178, 181.9042016598471, 181.90311868243606, 181.90515910058352, 181.90983764010946, 181.904348874189, 181.89999690340298, 181.16375210227432, 180.90722363032083, 180.8332773705628, 180.82412907242917, 180.86353500681216, 180.87564489568973, 180.84436316440807, 180.92806252218753, 180.9835995882036, 180.9997049303166, 180.9978192437899, 180.9768454899984, 180.9776776322532, 180.99132832030776, 181.00020201403206, 180.99268906220928, 180.96277356446535, 180.95346948181117, 180.98581039227338, 180.99938415140969, 180.9895200867642, 180.97187193035947, 180.97353230855092, 180.938773615368, 180.7330505953382, 181.10030221696923, 181.2257568168981, 181.27571857053007, 181.28648129172652, 181.30083483561094, 181.2822658490842, 181.26089517765683, 181.23697763912625, 181.229935973268, 181.2751815495899, 181.28693752555478, 180.91257809629465, 181.1466445788737, 181.2233023197612, 181.23971908752623, 181.227924218466, 181.23576349758886, 181.23512999295872, 181.21397285152432, 181.20847481103345, 181.1934684469489, 181.18450369116448, 181.19217874379564, 180.5890350664201, 180.63850283045042, 180.6525913554388, 180.65880904001276, 180.65508927933482, 180.64988740046888, 180.6677592836346, 180.67508816721966, 180.67779647937684, 180.67638195756044, 180.6675881363321, 180.65835493727306, 180.42022575257127, 180.2446091707972, 180.17359953866492, 180.15789138459442, 180.15461326280192, 180.16351050236455, 180.17362529754934, 180.1817115885256, 180.18419456837617, 180.1740924500568, 180.16741772289546, 180.16802780723, 180.18356780626328, 180.77155899636722, 180.98277037033984, 181.08050160738708, 181.1205373095973, 181.13562006567733, 181.12616611167016, 181.1133315755174, 181.10830969302754, 181.0846251974912, 181.06714239682952, 181.06771796306347, 181.13030966220873, 181.23480247518603, 181.27772512324552, 181.28668032034713, 181.30416417478614, 181.29836327251806, 181.29716678965406, 181.28983899729224, 181.30465542211175, 181.30952496144897, 181.3113715026463, 181.31826704609225, 181.2891491228947, 181.35094218794808, 181.405972045319, 181.43450863360678, 181.4461739015588, 181.44706937211996, 181.44958941845957, 181.4539300887525, 181.4559740404275, 181.4557924450059, 181.4492105138353, 181.43558551617997, 181.03062006372548, 180.9483901630939, 180.91339461057177, 180.90169122953662, 180.90384472677232, 180.90252676749714, 180.90511022735413, 180.9026102540815, 180.89520165500056, 180.8814517017082, 180.84934673005773, 180.8616633673095, 180.4705482885602, 180.3312988141107, 180.25730382031387, 180.22727753216137, 180.21069434657375, 180.19429960890113, 180.20916176408963, 180.18235620600169, 180.18195428935334, 180.1806239332617, 180.17772941385832, 180.18560075374734, 180.39565696822123, 180.78357618054838, 180.93688316067946, 180.98108663672102, 181.00851724144354, 181.02369936688092, 181.03052306631812, 181.039312185423, 181.04505742789908, 181.04257974235037, 181.04444197777804, 181.00401871552475, 181.00596544818396, 181.37249361801784, 181.4951686720106, 181.5261421408468, 181.54148897090352, 181.54200459750743, 181.54182658203774, 181.54340145088892, 181.54187878550047, 181.5460642508956, 181.54344873879634, 181.55020579379308, 181.20498987827952, 181.15459937647753, 181.13721284800516, 181.1202742871934, 181.11571202797148, 181.11003835280755, 181.12408466423787, 181.12640779263887, 181.14894821868623, 181.14143817447066, 181.13633552236746, 181.11642364753175, 181.1223860241628, 181.15243465258246, 181.15917218162568, 181.15630909666416, 181.1554620611922, 181.13245794876636, 181.13435147666416, 181.10936494948567, 181.10867465953578, 181.11110247254334, 181.12699062383697, 181.1340293514956, 181.0294794600512, 180.92787877228807, 180.96828448042572, 180.9826630516108, 180.98717977165282, 181.00852292957353, 181.0117123538796, 181.0410101896112, 181.05327014462048, 181.04006732143722, 181.02915379646714, 181.02893196785132, 181.07383015711747, 181.04248781308348, 181.01703209178507, 181.02000441230814, 181.02026236319486, 181.0237684195972, 181.02936179927565, 181.02652986431747, 181.01832115347096, 181.02100968794323, 181.01733462166075, 181.0277038985104, 181.11949568041345, 181.13054158062968, 181.16481622507806, 181.17087627085218, 181.17021376083122, 181.17892995987523, 181.17307976883978, 181.15097855271338, 181.1335313357172, 181.12338655899293, 181.12467842159245, 181.13239747064088, 180.9751749652413, 180.87735500697843, 180.93011028695562, 180.93232705858466, 180.93683449351934, 180.934841323488, 180.95188092276257, 180.9514488606601, 180.92636219336717, 180.91972700187299, 180.91828230043646, 180.90861928292912, 181.0655705386844, 181.04156208846845, 181.06657937477038, 181.1069272955774, 181.10862599810895, 181.08081857055194, 181.0629193880391, 181.0630323258078, 181.0742675048154, 181.05892598113962, 181.0617328534469, 181.09150075617652, 180.56102298247066, 180.33649015198964, 180.26594554738435, 180.2559608492235, 180.25147740812181, 180.24741653871448, 180.2418600192695, 180.2422049195919, 180.24112051662252, 180.2582167399383, 180.27643466288504, 180.26225924271296, 180.8215686696747, 181.09944063778565, 181.20994774579924, 181.24185221343475, 181.2685039733829, 181.2833298981779, 181.2972023555083, 181.32572049476428, 181.3394594963312, 181.36113443976572, 181.3485682008644, 181.3337688568222, 181.2186725019747, 181.31083017640395, 181.3433295657136, 181.36249779586572, 181.36603717953068, 181.3430561141529, 181.31989073312954, 181.33902051401327, 181.32510892376675, 181.30316923369807, 181.3301708046427, 181.35427452412165, 180.9602424394911, 181.08261119255081, 181.21344083088627, 181.26332704960882, 181.29293981928387, 181.26899225963993, 181.2738150319811, 181.26322799340602, 181.26118200902653, 181.2840189684989, 181.27655113828487, 181.29813612678302, 180.5957837704638, 180.390296303777, 180.30267310705494, 180.27013356808393, 180.28333413145324, 180.27076826412025, 180.33168200808998, 180.32973530720696, 180.32315254461668, 180.310550108988, 180.29346683462038, 180.28605399901102, 180.24156575360718, 180.15990703834905, 180.14335448774318, 180.1745443737071, 180.17944264034256, 180.1646557103448, 180.1294404648895, 180.10527031377137, 180.13358179698312, 180.09971421672046, 180.05290521297655, 180.07360226484815]}\n"
     ]
    }
   ],
   "source": [
    "print(data['cars'][3])"
   ]
  },
  {
   "cell_type": "code",
   "execution_count": 33,
   "metadata": {},
   "outputs": [
    {
     "name": "stdout",
     "output_type": "stream",
     "text": [
      "Ground truth: 75.9129425052\n"
     ]
    },
    {
     "ename": "KeyError",
     "evalue": "'speed'",
     "output_type": "error",
     "traceback": [
      "\u001b[1;31m---------------------------------------------------------------------------\u001b[0m",
      "\u001b[1;31mKeyError\u001b[0m                                  Traceback (most recent call last)",
      "\u001b[1;32m<ipython-input-33-e2a8e245f172>\u001b[0m in \u001b[0;36m<module>\u001b[1;34m()\u001b[0m\n\u001b[0;32m      1\u001b[0m \u001b[1;32mprint\u001b[0m\u001b[1;33m(\u001b[0m\u001b[1;34m'Ground truth: {}'\u001b[0m\u001b[1;33m.\u001b[0m\u001b[0mformat\u001b[0m\u001b[1;33m(\u001b[0m\u001b[0mgD\u001b[0m\u001b[1;33m[\u001b[0m\u001b[1;34m'cars'\u001b[0m\u001b[1;33m]\u001b[0m\u001b[1;33m[\u001b[0m\u001b[1;36m0\u001b[0m\u001b[1;33m]\u001b[0m\u001b[1;33m[\u001b[0m\u001b[1;34m'speed'\u001b[0m\u001b[1;33m]\u001b[0m\u001b[1;33m)\u001b[0m\u001b[1;33m)\u001b[0m\u001b[1;33m\u001b[0m\u001b[0m\n\u001b[1;32m----> 2\u001b[1;33m \u001b[1;32mprint\u001b[0m\u001b[1;33m(\u001b[0m\u001b[1;34m'Optimal_calib_system: {}'\u001b[0m\u001b[1;33m.\u001b[0m\u001b[0mformat\u001b[0m\u001b[1;33m(\u001b[0m\u001b[0mtemp\u001b[0m\u001b[1;33m[\u001b[0m\u001b[1;34m'cars'\u001b[0m\u001b[1;33m]\u001b[0m\u001b[1;33m[\u001b[0m\u001b[1;36m0\u001b[0m\u001b[1;33m]\u001b[0m\u001b[1;33m[\u001b[0m\u001b[1;34m'speed'\u001b[0m\u001b[1;33m]\u001b[0m\u001b[1;33m)\u001b[0m\u001b[1;33m)\u001b[0m\u001b[1;33m\u001b[0m\u001b[0m\n\u001b[0m",
      "\u001b[1;31mKeyError\u001b[0m: 'speed'"
     ]
    }
   ],
   "source": [
    "print('Ground truth: {}'.format(gD['cars'][0]['speed']))\n",
    "print('Optimal_calib_system: {}'.format(temp['cars'][0]['speed']))"
   ]
  },
  {
   "cell_type": "markdown",
   "metadata": {},
   "source": [
    "# Session0-left"
   ]
  },
  {
   "cell_type": "code",
   "execution_count": null,
   "metadata": {},
   "outputs": [],
   "source": []
  },
  {
   "cell_type": "code",
   "execution_count": null,
   "metadata": {},
   "outputs": [],
   "source": []
  },
  {
   "cell_type": "code",
   "execution_count": null,
   "metadata": {},
   "outputs": [],
   "source": []
  },
  {
   "cell_type": "code",
   "execution_count": null,
   "metadata": {},
   "outputs": [],
   "source": []
  },
  {
   "cell_type": "code",
   "execution_count": null,
   "metadata": {},
   "outputs": [],
   "source": []
  },
  {
   "cell_type": "code",
   "execution_count": null,
   "metadata": {},
   "outputs": [],
   "source": []
  }
 ],
 "metadata": {
  "kernelspec": {
   "display_name": "Python 2",
   "language": "python",
   "name": "python2"
  },
  "language_info": {
   "codemirror_mode": {
    "name": "ipython",
    "version": 2
   },
   "file_extension": ".py",
   "mimetype": "text/x-python",
   "name": "python",
   "nbconvert_exporter": "python",
   "pygments_lexer": "ipython2",
   "version": "2.7.16"
  }
 },
 "nbformat": 4,
 "nbformat_minor": 2
}
