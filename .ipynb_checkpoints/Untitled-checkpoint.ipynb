{
 "cells": [
  {
   "cell_type": "code",
   "execution_count": 1,
   "metadata": {},
   "outputs": [],
   "source": [
    "When migrating data from a source storage system to a target storage system, the number one focus is avoiding data corruption at all cost. In order to meet these high standards, various rounds of tests are run checking for corrupted blocks as well as successfully migrated lengthy regions.\n",
    "We are going to represent the source storage system and target storage system as sequential arrays sourceArray and destinationArray respectively, where sourceArray[i] represents binary data of the ith source block as an integer, and destinationArray[i] represents binary data of the ith destination block, where the data should be migrated, also as an integer. Given the content of the source and the migrated content of the target, find the length and the starting block of the longest uncorrupted data segment (segment = subsequent blocks).\n",
    "\n",
    "If there is no uncorrupted segment, return an array containing 0 and 0 respectively."
   ]
  },
  {
   "cell_type": "code",
   "execution_count": 8,
   "metadata": {},
   "outputs": [],
   "source": [
    "import numpy as np\n",
    "sourceArray = np.array([33531593, 96933415, 28506400, 39457872, 29684716, 86010806])\n",
    "destinationArray = np.array([33531593, 96913415, 28506400, 39457872, 29684716, 86010806])\n",
    "# Expected Output:\n",
    "# [4, 2]"
   ]
  },
  {
   "cell_type": "code",
   "execution_count": 23,
   "metadata": {},
   "outputs": [],
   "source": [
    "sourceArray = [20800440, 98256958, 64277103, 40475664, 98589505, 31621824, 84322264, 58283379, 15631261, 35464021]\n",
    "destinationArray = [20800440, 95256958, 64276103, 40475664, 98589505, 31621824, 84322264, 58283379, 15631261, 35464021]\n",
    "# Expected Output:\n",
    "# [7, 3]\n",
    "# sourceArray.shape"
   ]
  },
  {
   "cell_type": "code",
   "execution_count": 27,
   "metadata": {},
   "outputs": [],
   "source": [
    "\n",
    "sourceArray: [92988800, 80253955, 17396563, 91682092, 77708269, 97587946, 23889892, 20661856, 21013095, 92028000, 17562863, 86804822, 17819093, 97941923, 64955308]\n",
    "destinationArray: [92988800, 80253955, 17396563, 91682092, 77708229, 97587946, 23889892, 20661866, 21013095, 92928000, 17962863, 86804822, 14819093, 97241923, 62955308]\n",
    "# Output:\n",
    "# [0, 0]\n",
    "# Expected Output:\n",
    "# [4, 0]"
   ]
  },
  {
   "cell_type": "code",
   "execution_count": null,
   "metadata": {},
   "outputs": [],
   "source": []
  },
  {
   "cell_type": "code",
   "execution_count": 29,
   "metadata": {},
   "outputs": [
    {
     "name": "stdout",
     "output_type": "stream",
     "text": [
      "[4, 1]\n"
     ]
    }
   ],
   "source": [
    "# a = sourceArray-destinationArray\n",
    "b = [k for k,v in enumerate(sourceArray) if (v-destinationArray[k])!=0]\n",
    "finish = len(sourceArray)-b[-1]-1\n",
    "print([finish,b[-1]])"
   ]
  },
  {
   "cell_type": "code",
   "execution_count": 34,
   "metadata": {},
   "outputs": [
    {
     "name": "stdout",
     "output_type": "stream",
     "text": [
      "[4, 7, 9, 10, 12, 13, 14]\n"
     ]
    },
    {
     "data": {
      "text/plain": [
       "[0, 15]"
      ]
     },
     "execution_count": 34,
     "metadata": {},
     "output_type": "execute_result"
    }
   ],
   "source": [
    "def longestUncorruptedSegment(sourceArray, destinationArray):\n",
    "    b = [k for k,v in enumerate(sourceArray) if (v-destinationArray[k])!=0]\n",
    "    finish = len(sourceArray)-b[-1]-1\n",
    "    print(b)\n",
    "    if finish ==0 and len(b)==0 or len(b)==len(sourceArray):\n",
    "        return [0,0]\n",
    "    return [finish,b[-1]+1]\n",
    "\n",
    "sourceArray= [92988800, 80253955, 17396563, 91682092, 77708269, 97587946, 23889892, 20661856, 21013095, 92028000, 17562863, 86804822, 17819093, 97941923, 64955308]\n",
    "destinationArray= [92988800, 80253955, 17396563, 91682092, 77708229, 97587946, 23889892, 20661866, 21013095, 92928000, 17962863, 86804822, 14819093, 97241923, 62955308]\n",
    "longestUncorruptedSegment(sourceArray,destinationArray)"
   ]
  },
  {
   "cell_type": "code",
   "execution_count": 37,
   "metadata": {},
   "outputs": [
    {
     "name": "stdout",
     "output_type": "stream",
     "text": [
      "[2, 1]\n",
      "[3, 2]\n",
      "[4, 2]\n",
      "[5, 2]\n",
      "[6, 4]\n",
      "[6, 5]\n"
     ]
    }
   ],
   "source": [
    "n= 6\n",
    "g= [[1,2], \n",
    " [2,3], \n",
    " [2,4], \n",
    " [2,5], \n",
    " [4,6], \n",
    " [5,6]]\n",
    "v= [4, 5]\n",
    "    \n",
    "    \n",
    "# n= 6\n",
    "# g= [[1,2], \n",
    "#  [2,3], \n",
    "#  [2,4], \n",
    "#  [2,5], \n",
    "#  [4,6], \n",
    "#  [5,6]]\n",
    "# v= [2, 6]\n",
    "def whatEverTheySaid(n,g,v):\n",
    "    a = []\n",
    "    for i in g:\n",
    "        with i in a:\n",
    "            return False\n",
    "        i.reverse()\n",
    "        print(i)\n",
    "whatEverTheySaid(n,g,v)\n",
    "    \n",
    "    "
   ]
  },
  {
   "cell_type": "code",
   "execution_count": 38,
   "metadata": {},
   "outputs": [
    {
     "ename": "AttributeError",
     "evalue": "__enter__",
     "output_type": "error",
     "traceback": [
      "\u001b[1;31m---------------------------------------------------------------------------\u001b[0m",
      "\u001b[1;31mAttributeError\u001b[0m                            Traceback (most recent call last)",
      "\u001b[1;32m<ipython-input-38-b2256254f314>\u001b[0m in \u001b[0;36m<module>\u001b[1;34m\u001b[0m\n\u001b[1;32m----> 1\u001b[1;33m \u001b[1;32mwith\u001b[0m \u001b[1;36m1\u001b[0m\u001b[1;33m==\u001b[0m\u001b[1;36m2\u001b[0m\u001b[1;33m:\u001b[0m\u001b[1;33m\u001b[0m\u001b[1;33m\u001b[0m\u001b[0m\n\u001b[0m\u001b[0;32m      2\u001b[0m     \u001b[0mprint\u001b[0m\u001b[1;33m(\u001b[0m\u001b[1;34m'ok'\u001b[0m\u001b[1;33m)\u001b[0m\u001b[1;33m\u001b[0m\u001b[1;33m\u001b[0m\u001b[0m\n",
      "\u001b[1;31mAttributeError\u001b[0m: __enter__"
     ]
    }
   ],
   "source": [
    "with 1==2:\n",
    "    print('ok')"
   ]
  }
 ],
 "metadata": {
  "kernelspec": {
   "display_name": "Python 3",
   "language": "python",
   "name": "python3"
  },
  "language_info": {
   "codemirror_mode": {
    "name": "ipython",
    "version": 3
   },
   "file_extension": ".py",
   "mimetype": "text/x-python",
   "name": "python",
   "nbconvert_exporter": "python",
   "pygments_lexer": "ipython3",
   "version": "3.6.8"
  }
 },
 "nbformat": 4,
 "nbformat_minor": 2
}
